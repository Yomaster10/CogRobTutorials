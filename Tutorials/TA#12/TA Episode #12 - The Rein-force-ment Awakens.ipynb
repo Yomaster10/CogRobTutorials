{
 "cells": [
  {
   "attachments": {},
   "cell_type": "markdown",
   "metadata": {},
   "source": [
    "<p align=\"center\">\n",
    "  <img src=\"Graphics/Episode XII.png\" />\n",
    "</p>"
   ]
  },
  {
   "attachments": {},
   "cell_type": "markdown",
   "metadata": {},
   "source": [
    "## (0) Probabilistic Planning & Reinforcement Learning\n",
    "\n",
    "### (0.1) From Classical to Probabilistic Decision-Making\n",
    "\n",
    "Up until now, all of the problems we've met involved actions and environments that were deterministic in nature, but in real life such cases aren't always true! For our final tutorial (which serves as enrichment, given that this material is beyond the scope of the course), let's explore methods to represent and solve decision-making problems where the environment and/or the actions available within it are **probabilistic** in nature. \n",
    "\n",
    "### (0.2) Learning Outcomes\n",
    "\n",
    "In this tutorial, we will cover:\n",
    "* How to model probabilistic decision-making problems with Markov decision processes (MDP)\n",
    "* How to solve MDP's using the Bellman equation and dynamic programming methods\n",
    "* How to use reinforcement learning approaches to solve probabilistic decision-making problems where the model is not explicitly given\n",
    "* Some useful packages for representing and solving PP and RL problems, including OpenAI Gym and RDDLGym\n",
    "\n",
    "### (0.3) Libraries"
   ]
  },
  {
   "cell_type": "code",
   "execution_count": 1,
   "metadata": {},
   "outputs": [],
   "source": [
    "import gym, time\n",
    "import numpy as np\n",
    "import matplotlib.pyplot as plt\n",
    "\n",
    "from Code import EnvSetup\n",
    "from Code import DynamicProgramming as DP\n",
    "from Code import PassiveRL as pRL"
   ]
  },
  {
   "attachments": {},
   "cell_type": "markdown",
   "metadata": {},
   "source": [
    "### (0.4) Disclaimer\n",
    "\n",
    "While this tutorial is enrichment, it is still recommended viewing for those students who are curious about the topic or are undertaking final projects which involve probabilistic actions or require the use of OpenAI Gym for simulation. **Note:** The OpenAI Gym library *does not* work on the Windows Operating System!!! You'll need to run this notebook from a Linux OS in order to use the code that relies on Gym.\n",
    "\n",
    "<p align=\"center\">\n",
    "  <img src=\"Graphics/RL.gif\" width=500/>\n",
    "</p>"
   ]
  },
  {
   "attachments": {},
   "cell_type": "markdown",
   "metadata": {},
   "source": [
    "## (1) Introduction to Probabilistic Planning\n",
    "\n",
    "### (1.1) Motivation\n",
    "\n",
    "To understand why things will change when we start to consider probabilities, let's examine the following problem (known as the Frozen Lake problem):\n",
    "<p align=\"center\">\n",
    "  <img src=\"Graphics/FrozenLake.PNG\" width=500/>\n",
    "</p>\n",
    "\n",
    "In this problem, there is a robot standing on a frozen lake which can be divided into 12 uniform squares. On one of the squares, there is an oil can which the robot would like to obtain, and it can reach this oil can by moving between squares one at a time. On a different square, there is a hole in the ice which the robot would like to avoid - if it falls in the hole, the robot's computers will freeze up and it'll never be able to reach the oil can (this signifies a failure).\n",
    "\n",
    "At any given square, the robot can try to move in one of 4 directions: left, right, up, down. If moving in a certain direction would cause the robot to cross outside the boundaries of the lake, then it can't choose to move in that direction. For example, from the starting position (0,0), the robot can only move down or left. For now, we'll assume that all moves are deterministic (i.e. if we tell the robot to move down, then it will move down with 100% certainty as long is this is an allowed move).\n",
    "\n",
    "Let's assume that the cost of moving between any two adjacent squares is just equal to one, and that the oil can square and the hole square are terminal states. Then, we can simply represent this problem as a graph and conduct a classical search on it in order to find the best path (in this case, best just means shortest). For example, we can represent the graph as follows:\n",
    "<p align=\"center\">\n",
    "  <img src=\"Graphics/FrozenLake_Graph.PNG\" width=500/>\n",
    "</p>\n",
    "\n",
    "Note that the first square (at 0,0) is marked I for initial state, the square at 1,1 representing the hole is marked H, and the square at 2,3 representing the oil can is marked G (for goal). If we move to H (any of the red arrows), then the robot will fall into the hole and fail to get the oil can, whereas if we move to G (any of the green arrows), then the robot will successfully obtain the oil can.\n",
    "\n",
    "Let's denote the actions in this problem as follows: 0 = Left, 1 = Down, 2 = Right, and 3 = Up. It's clear that we can just use Breadth First-Search (where we first expand nodes with lower action index value, i.e. Down [1] before Right [2]) to easily find the shortest path for this problem. Assuming we don't revisit states during our search, the BFS tree created and the solution it obtains will look as follows:\n",
    "<p align=\"center\">\n",
    "  <img src=\"Graphics/FrozenLake_BFS.png\" width=700/>\n",
    "</p>\n",
    "\n",
    "Classical search and planning was sufficient to solve this problem when all of the actions were deterministic, but what happens if they become probabilistic? \n",
    "\n",
    "For the Frozen Lake problem, let's now say that the ice is quite slippery. If the robot tries to move in some direction, then it will succeed 60% of the time, while 40% of the time it will slip in one of the perpendicular directions. For example, if we try to move from down from the start position, then the robot will move down to state $S(1,0)$ with 60% probability and will move right to state $S(0,1)$ with 40% probability (it won't ever move left, since there is a boundary there). If both perpendicular directions are available, then the 40% probability is split evenly between both directions. For example, if we try to move right from state $S(1,2)$ then the robot will move right to state $S(1,3)$ with 60% probability, will move down to state $S(2,2)$ with 20% probability, and will move up to state $S(0,2)$ with 20% probability.\n",
    "\n",
    "This new system for having probabilistic results of our actions for any given state is called a **transition model**, and we can formally define it for our problem now as follows:\n",
    "$$\n",
    "T(s,a,s') = P(s_{t+1}=s'|s_{t}=s,a_{t}=a)= \\begin{cases}\n",
    "1, & s\\in\\{G,H\\} \\; | \\; s'=s \\; \\forall a \\in A(s)\\\\\n",
    "p, & s\\in S \\text{\\textbackslash} \\{G,H\\} \\; | \\; s'=a(s)\\\\\n",
    "\\frac{1-p}{|A_{\\perp}(s)|}, & s\\in S \\text{\\textbackslash} \\{G,H\\} \\; | \\; s'=a_{\\perp}(s)\\; \\forall  a_{\\perp} \\in A_{\\perp}(s)\n",
    "\\end{cases}\n",
    "$$\n",
    "\n",
    "where $p$ is the success probability for moving in the desired direction (in our case 0.6) and $A_{\\perp}(s)$ is the space of valid perpendicular actions for some state ($A_{\\perp}(s) \\subset A(s)$ and $a_{\\perp}(s)\\neq a(s)$).\n",
    "\n",
    "In this case, our BFS solution is no longer necessarily suitable as a solution to the problem. What does that mean, exactly? Well, now we are longer guaranteed to even reach the goal state if we follow the plan given by BFS, let alone to reach it along the shortest path possible. Run the following code to simulate the robot trying to follow the BFS solution across 1000 episodes (each time the robot goes from the initial state to a terminal state, we call this an **episode**) - because the problem is now probabilistic in nature, we need a large number of trials to observe the statistical behavior of our solutions:"
   ]
  },
  {
   "cell_type": "code",
   "execution_count": 2,
   "metadata": {},
   "outputs": [
    {
     "name": "stdout",
     "output_type": "stream",
     "text": [
      "----------------------------------------------\n",
      "BFS agent successfully reached the goal in 321 out of 1000 episodes and received an average reward of -0.358 using this policy.\n",
      "\n",
      "Policy:\n",
      " [['v' '>' 'v' 'v']\n",
      " ['v' 'H' 'v' 'v']\n",
      " ['>' '>' '>' 'G']]\n",
      "\n",
      "BFS agent took an average of 7 steps to reach the goal.\n",
      "----------------------------------------------\n"
     ]
    }
   ],
   "source": [
    "env = EnvSetup.EnvPrep(p=0.6)\n",
    "EnvSetup.evaluate(env, agent='BFS')"
   ]
  },
  {
   "attachments": {},
   "cell_type": "markdown",
   "metadata": {},
   "source": [
    "We see that the robot will only reach the goal in somewhere between 250 and 350 episodes (the rest of the times, it falls into the hole), when it follows the BFS plan. Actually, calling it a plan is now a misnomer since the actions are not determinstic - from now on, we will refer to solutions to probabilistic planning (PP) problems as **policies**. The policy an agent uses to solve a PP problem is a function $\\pi(s)$ that returns an action that our agent should do for any state $s\\in S$. For example, the code above printed the following policy that BFS would return:\n",
    "```\n",
    "[['v' '>' 'v' 'v']\n",
    " ['v' 'H' 'v' 'v']\n",
    " ['>' '>' '>' 'G']]\n",
    "```\n",
    "Here, the symbol located in slot $(i,j)$ shows the action that BFS recommends we take when we are in that slot. For example, if we are in the initial state ($I=S(0,0)$), then we should go down (`v`) according to BFS. Running BFS from all non-terminal states will produce this policy for us. Notice that the policy recommends an action solely based on the state we are in - it does not need to consider anything else. This is related to a property called the *Markov Property* which we will discuss soon. The terminal states are not assigned an action in the policy, since the episode always ends once a terminal state is reached (thus no more moves can be made).\n",
    "\n",
    "Lastly, we see that even when the BFS agent does manage to reach the goal, it on average will need around 7 steps to do so (whereas the BFS solution for the classical case requires only 5 steps).\n",
    "\n",
    "It should be clear now that probabilistic decision-making problems aren't as straightforward as their classical counterparts. It will thus be our goal to find a way to improve the performance of our policies, i.e. to find policies that allow us to reach desirable goal states more often. As a baseline, let's test a policy where ever action is just selected randomly from the set of valid actions in a given state:"
   ]
  },
  {
   "cell_type": "code",
   "execution_count": 3,
   "metadata": {},
   "outputs": [
    {
     "name": "stdout",
     "output_type": "stream",
     "text": [
      "----------------------------------------------\n",
      "Random agent successfully reached the goal in 62 out of 1000 episodes and received an average reward of -0.876 using this policy.\n",
      "\n",
      "Random agent took an average of 10 steps to reach the goal.\n",
      "----------------------------------------------\n"
     ]
    }
   ],
   "source": [
    "EnvSetup.evaluate(env, agent='Random')"
   ]
  },
  {
   "attachments": {},
   "cell_type": "markdown",
   "metadata": {},
   "source": [
    "The random agent is clearly not a good choice, since it only reaches the goal in somewhere between 50 and 100 episodes. It also needs somewhere between 9 and 11 steps on average to reach the goal (when it succeeds it do so), and so the BFS policy still produces better results (despite being ignorant to the probabilistic nature of the problem). Let's try one more policy (the *optimal* policy - we will define optimality soon) on this problem, to see if there is in fact anything better than the BFS policy: "
   ]
  },
  {
   "cell_type": "code",
   "execution_count": 4,
   "metadata": {},
   "outputs": [
    {
     "name": "stdout",
     "output_type": "stream",
     "text": [
      "----------------------------------------------\n",
      "Optimal agent successfully reached the goal in 485 out of 1000 episodes and received an average reward of -0.030 using this policy.\n",
      "\n",
      "Policy:\n",
      " [['>' '>' '>' 'v']\n",
      " ['v' 'H' '>' 'v']\n",
      " ['>' '>' '>' 'G']]\n",
      "\n",
      "Optimal agent took an average of 9 steps to reach the goal.\n",
      "----------------------------------------------\n"
     ]
    }
   ],
   "source": [
    "EnvSetup.evaluate(env, agent='Optimal')"
   ]
  },
  {
   "attachments": {},
   "cell_type": "markdown",
   "metadata": {},
   "source": [
    "Remarkably, we see that now we reach the goal successfully in 450-500 episodes! This is much better performance than BFS, though we should note that the average solution length is a bit longer than BFS (now it's around 9). This mysterious new policy looks as follows:\n",
    "```\n",
    "[['>' '>' '>' 'v']\n",
    " ['v' 'H' '>' 'v']\n",
    " ['>' '>' '>' 'G']]\n",
    "```\n",
    "We see that instead of always following the shortest path to the goal state, it actually tells the robot to try to get farther away from the hole before attempting to approach the goal (specificilly, notice that when the robot is in the states $S(0,0),S(0,2),S(1,2)$ it is now told to move right (`>`) by this policy, whereas the BFS policy told it to move down (`v`)). This is in fact the optimal policy for this problem, and we will soon learn how to obtain it ourselves from scratch.\n",
    "\n",
    "What does optimal mean in this case though? Do we just want to find policies that produce the highest success rates? No, since we can have problems where the success rate is always 100% (imagine we just remove the hole from the Frozen Lake problem and replace it with a regular square) - we'll need to find a new metric for optimality!"
   ]
  },
  {
   "attachments": {},
   "cell_type": "markdown",
   "metadata": {},
   "source": [
    "#### (1.1.1) The OpenAI Gym Library\n",
    "\n",
    "Before we move on, I'd like to go back to the code I used earlier to simulate the Frozen Lake problem. I was able to do so using a Python library called [OpenAI Gym](https://www.gymlibrary.dev/) (made by, you guessed it, OpenAI), usually just called Gym for short. This library is very popular in the field of probabilistic decision-making and reinforcement learning, since it provides a convenient way to model, solve, and simulate such problems in Python, as well as providing a catalog of pre-designed problems (such as the Frozen Lake and many Atari games) that users can easily test their algorithms on.\n",
    "\n",
    "The core concept in the Gym library is the `Environment` class, which contains all the information needed to represent a probabilistic reasoning problem (all the states, actions, etc). To create an instance of the Frozen Lake problem's environment, for example, we will run the following commands:  "
   ]
  },
  {
   "cell_type": "code",
   "execution_count": 5,
   "metadata": {},
   "outputs": [],
   "source": [
    "desc = [\"SFFF\", \"FHFF\", \"FFFG\"] # this just describes the map, S = initial state, H = hole, G = goal state, F = all other states\n",
    "env = gym.make('FrozenLake-v1', desc=desc, is_slippery=True) # The `env` object stores our environment, and can be dynamically interacted with\n",
    "## the `is_slippery` parameter is just used to indicate that we want the probabilistic version of the Frozen Lake problem\n",
    "\n",
    "EnvSetup.redefine_prob_model(env, prob=0.6) # this is a custom function I created to redefine the problem's transition model"
   ]
  },
  {
   "attachments": {},
   "cell_type": "markdown",
   "metadata": {},
   "source": [
    "Now that we have our environment initialized and stored in the `env` object, we can visualize its current state (which should just be the initial state for now - we'll use the `env.reset()` command to make sure of this) using the `env.render()` command:"
   ]
  },
  {
   "cell_type": "code",
   "execution_count": 6,
   "metadata": {},
   "outputs": [
    {
     "name": "stdout",
     "output_type": "stream",
     "text": [
      "0\n",
      "\n",
      "\u001b[41mS\u001b[0mFFF\n",
      "FHFF\n",
      "FFFG\n"
     ]
    }
   ],
   "source": [
    "env.reset()\n",
    "print(env.s) # indicates the index of the current state, should be 0 for the initial state\n",
    "\n",
    "env.render()"
   ]
  },
  {
   "attachments": {},
   "cell_type": "markdown",
   "metadata": {},
   "source": [
    "We can use the command `env.step(action)` to try to apply the move `action` to our current state. The actions are passed to this function using the index corresponding to that action, which like before is: 0 = Left, 1 = Down, 2 = Right, and 3 = Up. Let's see we try to move right from the initial state, then we will pass 2 to the `step` function:"
   ]
  },
  {
   "cell_type": "code",
   "execution_count": 7,
   "metadata": {},
   "outputs": [
    {
     "name": "stdout",
     "output_type": "stream",
     "text": [
      "1\n",
      "  (Right)\n",
      "S\u001b[41mF\u001b[0mFF\n",
      "FHFF\n",
      "FFFG\n"
     ]
    }
   ],
   "source": [
    "new_state, _, _, _ = env.step(2)\n",
    "print(new_state)\n",
    "\n",
    "env.render()"
   ]
  },
  {
   "attachments": {},
   "cell_type": "markdown",
   "metadata": {},
   "source": [
    "We should see that our new state is either 1 (if the Right action succeeded, which happens 60% of the time) or 4 (if we slipped and did the Down action instead, which happens 40% of the time). That's it! To restart the environment (and thus start a new episode), we just run the `env.reset()` command again.\n",
    "\n",
    "Our focus will be on methods for choosing which action to pass to the `step` function, depending on which state we're in. We'll want to construct some sort of `policy` map such that `policy(s)` $\\rightarrow \\{0,1,2,3\\}$ (i.e. the policy returns an action given a state) for all non-terminal states $s$."
   ]
  },
  {
   "attachments": {},
   "cell_type": "markdown",
   "metadata": {},
   "source": [
    "### (1.2) Markov Decision Processes\n",
    "\n",
    "#### (1.2.1) The Markov Property\n",
    "\n",
    "#### (1.2.2) Utility, Policy, & Quality\n",
    "\n",
    "### (1.3) Bellman's Equation\n",
    "\n",
    "#### (1.3.1) Bellman's Optimality Criterion\n",
    "\n",
    "### (1.4) Dynamic Programming\n",
    "\n",
    "#### (1.4.1) Value Iteration\n",
    "\n",
    "##### (1.4.1.1) Code Example"
   ]
  },
  {
   "cell_type": "code",
   "execution_count": 8,
   "metadata": {},
   "outputs": [
    {
     "name": "stdout",
     "output_type": "stream",
     "text": [
      "----------------------------------------------\n",
      "Value Iteration agent successfully reached the goal in 460 out of 1000 episodes and received an average reward of -0.080 using this policy.\n",
      "\n",
      "Policy:\n",
      " [['>' '>' '>' 'v']\n",
      " ['v' 'H' '>' 'v']\n",
      " ['>' '>' '>' 'G']]\n",
      "\n",
      "Value Iteration agent took an average of 9 steps to reach the goal.\n",
      "----------------------------------------------\n",
      "\n",
      "Final Value Vector:\n",
      " [[-0.0539541   0.19825443  0.99839047  0.99823756]\n",
      " [-0.43226705 -1.          0.99861984  0.99944794]\n",
      " [-0.053266    0.19940127  0.99944794  1.        ]]\n"
     ]
    }
   ],
   "source": [
    "V_opt, pi = DP.ValueIteration(env, policy_extract=True)\n",
    "EnvSetup.evaluate(env, agent='Value Iteration', pi=pi)\n",
    "\n",
    "print(\"\\nFinal Value Vector:\\n\", np.reshape(V_opt,(3,4)))"
   ]
  },
  {
   "cell_type": "code",
   "execution_count": 9,
   "metadata": {},
   "outputs": [
    {
     "name": "stdout",
     "output_type": "stream",
     "text": [
      "Value Iteration took 0.0089 seconds on average over 100 trials.\n"
     ]
    }
   ],
   "source": [
    "tot_time = []\n",
    "for _ in range(100):\n",
    "    start_time = time.time()\n",
    "    DP.ValueIteration(env, policy_extract=True)\n",
    "    tot_time.append(time.time() - start_time)\n",
    "print(f\"Value Iteration took {np.mean(tot_time):.4f} seconds on average over 100 trials.\")"
   ]
  },
  {
   "attachments": {},
   "cell_type": "markdown",
   "metadata": {},
   "source": [
    "#### (1.4.2) Policy Iteration\n",
    "\n",
    "##### (1.4.2.1) Policy Evaluation\n",
    "\n",
    "##### (1.4.2.2) Policy Extraction\n",
    "\n",
    "##### (1.4.2.3) Policy Improvement\n",
    "\n",
    "##### (1.4.2.4) Code Example"
   ]
  },
  {
   "cell_type": "code",
   "execution_count": 10,
   "metadata": {},
   "outputs": [
    {
     "name": "stdout",
     "output_type": "stream",
     "text": [
      "----------------------------------------------\n",
      "Policy Iteration agent successfully reached the goal in 475 out of 1000 episodes and received an average reward of -0.050 using this policy.\n",
      "\n",
      "Policy:\n",
      " [['>' '>' '>' 'v']\n",
      " ['v' 'H' '>' 'v']\n",
      " ['>' '>' '>' 'G']]\n",
      "\n",
      "Policy Iteration agent took an average of 8 steps to reach the goal.\n",
      "----------------------------------------------\n"
     ]
    }
   ],
   "source": [
    "pi = DP.PolicyIteration(env)\n",
    "EnvSetup.evaluate(env, agent='Policy Iteration', pi=pi)"
   ]
  },
  {
   "cell_type": "code",
   "execution_count": 11,
   "metadata": {},
   "outputs": [
    {
     "name": "stdout",
     "output_type": "stream",
     "text": [
      "Policy Iteration took 0.0079 seconds on average over 100 trials.\n"
     ]
    }
   ],
   "source": [
    "for _ in range(100):\n",
    "    start_time = time.time()\n",
    "    DP.PolicyIteration(env, gamma=1)\n",
    "    tot_time.append(time.time() - start_time)\n",
    "print(f\"Policy Iteration took {np.mean(tot_time):.4f} seconds on average over 100 trials.\")"
   ]
  },
  {
   "attachments": {},
   "cell_type": "markdown",
   "metadata": {},
   "source": [
    "!pip install gym\n",
    "!pip install gym[toy_text]"
   ]
  },
  {
   "attachments": {},
   "cell_type": "markdown",
   "metadata": {},
   "source": [
    "\"\"\"\n",
    "LEFT = 0\n",
    "DOWN = 1\n",
    "RIGHT = 2\n",
    "UP = 3\n",
    "\"\"\""
   ]
  },
  {
   "attachments": {},
   "cell_type": "markdown",
   "metadata": {},
   "source": [
    "def argmax(env, V, pi, action,s, gamma):\n",
    "    e = np.zeros(env.env.nA)\n",
    "    for a in range(env.env.nA):                         # iterate for every action possible \n",
    "        q=0\n",
    "        P = np.array(env.env.P[s][a])                   \n",
    "        (x,y) = np.shape(P)                             # for Bellman Equation \n",
    "        \n",
    "        for i in range(x):                              # iterate for every possible states\n",
    "            s_= int(P[i][1])                            # S' - Sprime - possible succesor states\n",
    "            p = P[i][0]                                 # Transition Probability P(s'|s,a) \n",
    "            if p <= 0.0:\n",
    "                e[a] = -np.inf\n",
    "                break                              \n",
    "            r = P[i][2]                                 # Reward\n",
    "            \n",
    "            q += p*(r+gamma*V[s_])                      # calculate action_ value q(s|a)\n",
    "            e[a] = q   \n",
    "    m = np.argmax(e) \n",
    "    action[s]=m                                           # Take index which has maximum value \n",
    "    pi[s][m] = 1                                        # update pi(a|s) \n",
    "\n",
    "    return pi\n",
    "\n",
    "\n",
    "def bellman_optimality_update(env, V, s, gamma):  # update the stae_value V[s] by taking action which maximizes current value\n",
    "    if env.P[s][0][0][3] == True:\n",
    "        V[s] = env.P[s][0][0][2]\n",
    "        return V[s]\n",
    "\n",
    "    pi = np.zeros((env.env.nS, env.env.nA))\n",
    "    e = np.zeros(env.env.nA)                       \n",
    "                                            # STEP1: Find \n",
    "    for a in range(env.env.nA):             \n",
    "        q=0                                 # iterate for all possible action\n",
    "        P = np.array(env.env.P[s][a])\n",
    "        (x,y) = np.shape(P)\n",
    "        \n",
    "        for i in range(x):\n",
    "            s_= int(P[i][1])\n",
    "            p = P[i][0]\n",
    "            r = P[i][2]\n",
    "            q += p*(r+gamma*V[s_])\n",
    "            e[a] = q\n",
    "    \n",
    "    m = np.argmax(e)\n",
    "    pi[s][m] = 1\n",
    "    \n",
    "    value = 0\n",
    "    for a in range(env.env.nA):\n",
    "        u = 0\n",
    "        P = np.array(env.env.P[s][a])\n",
    "        (x,y) = np.shape(P)\n",
    "        for i in range(x):\n",
    "            \n",
    "            s_= int(P[i][1])\n",
    "            p = P[i][0]\n",
    "            r = P[i][2]\n",
    "            \n",
    "            u += p*(r+gamma*V[s_])\n",
    "            \n",
    "        value += pi[s,a] * u\n",
    "  \n",
    "    V[s]=value\n",
    "    return V[s]\n",
    "\n",
    "def value_iteration(env, gamma, theta):\n",
    "    V = np.zeros(env.env.nS)                              # initialize v(0) to arbitory value, my case \"zeros\"\n",
    "    while True:\n",
    "        delta = 0\n",
    "        for s in range(env.env.nS):                       # iterate for all states\n",
    "            v = V[s]\n",
    "            bellman_optimality_update(env, V, s, gamma)   # update state_value with bellman_optimality_update\n",
    "            delta = max(delta, abs(v - V[s]))             # assign the change in value per iteration to delta \n",
    "        if delta < theta:                                       \n",
    "            break                                       # if change gets to negligible \n",
    "                                                          # --> converged to optimal value         \n",
    "    pi = np.zeros((env.env.nS, env.env.nA)) \n",
    "    action = np.zeros((env.env.nS))\n",
    "    for s in range(env.env.nS):\n",
    "        pi = argmax(env, V, pi,action, s, gamma)         # extract optimal policy using action value \n",
    "        \n",
    "    return V, pi,action                                          # optimal value funtion, optimal policy"
   ]
  },
  {
   "attachments": {},
   "cell_type": "markdown",
   "metadata": {},
   "source": [
    "!pip install tools"
   ]
  },
  {
   "attachments": {},
   "cell_type": "markdown",
   "metadata": {},
   "source": [
    "desc = [\"SFFF\", \"FHFF\", \"FFFG\"]\n",
    "env = gym.make('FrozenLake-v1', desc=desc, is_slippery=True)\n",
    "redefine_prob_model(env,prob=0.6)\n",
    "env.reset()\n",
    "#env.render()\n",
    "\n",
    "gamma = 1\n",
    "#theta = 0.001\n",
    "theta = 0.000001\n",
    "\n",
    "V, pi, action = value_iteration(env, gamma, theta)\n",
    "print(V)"
   ]
  },
  {
   "attachments": {},
   "cell_type": "markdown",
   "metadata": {},
   "source": [
    "#import tools \n",
    "#tools.plot(V,pi)\n",
    "\n",
    "a= np.reshape(action,(3,4))\n",
    "print(a)                          # discrete action to take in given state\n",
    "\n",
    "e=0\n",
    "for i_episode in range(100):\n",
    "    c = env.reset()\n",
    "    for t in range(10000):\n",
    "        c, reward, done, info = env.step(action[c])\n",
    "        if done:\n",
    "            if reward == 1:\n",
    "                e += 1\n",
    "            break\n",
    "print(\" agent succeeded to reach goal {} out of 100 Episodes using this policy \".format(e))\n",
    "env.close()"
   ]
  },
  {
   "attachments": {},
   "cell_type": "markdown",
   "metadata": {},
   "source": [
    "## (2) Introduction to Reinforcement Learning\n",
    "\n",
    "### (2.1) General Overview of RL Methods\n",
    "\n",
    "#### (2.1.1) Passive vs. Active RL\n",
    "\n",
    "#### (2.1.2) Model-Based vs. Model-Free Approaches\n",
    "\n",
    "### (2.2) Passive RL\n",
    "\n",
    "#### (2.2.1) Direct Utility (or Monte Carlo) Estimation\n",
    "\n",
    "(Model-Free)"
   ]
  },
  {
   "cell_type": "code",
   "execution_count": 12,
   "metadata": {},
   "outputs": [
    {
     "name": "stdout",
     "output_type": "stream",
     "text": [
      "MC-Estimated Value Vector after 1000 episodes:\n",
      " [[-0.418      -0.22342733  0.34707904  0.80769231]\n",
      " [-0.5707196  -1.          0.32954545  0.81176471]\n",
      " [-0.25269978  0.0234375   0.67810026  1.        ]] \n",
      "\n"
     ]
    }
   ],
   "source": [
    "pi = [1,2,1,1,1,'H',1,1,2,2,2,'G']\n",
    "num_episodes = 1000\n",
    "V_mc = pRL.MC_Estimation(env, pi, num_episodes=num_episodes, every_time=True)\n",
    "print(\"MC-Estimated Value Vector after\", num_episodes, \"episodes:\\n\", np.reshape(V_mc,(3,4)),\"\\n\")"
   ]
  },
  {
   "cell_type": "code",
   "execution_count": 13,
   "metadata": {},
   "outputs": [],
   "source": [
    "#pRL.ConvergenceCheck(env,pi,method='MC',eps=10**-1)"
   ]
  },
  {
   "cell_type": "code",
   "execution_count": 14,
   "metadata": {},
   "outputs": [],
   "source": [
    "#mc_error = pRL.Plot_MSEvEpisodes(env, pi, V_opt, method='MC')"
   ]
  },
  {
   "attachments": {},
   "cell_type": "markdown",
   "metadata": {},
   "source": [
    "#### (2.2.2) Temporal Difference Learning - TD(0)\n",
    "\n",
    "(Model-Free)"
   ]
  },
  {
   "cell_type": "code",
   "execution_count": 15,
   "metadata": {},
   "outputs": [
    {
     "name": "stdout",
     "output_type": "stream",
     "text": [
      "TD0-Estimated Value Vector after 1000 episodes:\n",
      " [[-0.2972665   0.39679572  0.18448517  0.78528676]\n",
      " [-0.82759232 -1.          0.33014004  0.91049351]\n",
      " [-0.22051668  0.28338958  0.88545613  1.        ]] \n",
      "\n"
     ]
    }
   ],
   "source": [
    "pi = [1,2,1,1,1,'H',1,1,2,2,2,'G']\n",
    "num_episodes = 1000\n",
    "V_TD0 = pRL.TD0(env, pi, alpha=0.5, gamma=1, num_episodes=num_episodes)\n",
    "print(\"TD0-Estimated Value Vector after\", num_episodes, \"episodes:\\n\", np.reshape(V_TD0,(3,4)),\"\\n\")"
   ]
  },
  {
   "cell_type": "code",
   "execution_count": 16,
   "metadata": {},
   "outputs": [],
   "source": [
    "#pRL.ConvergenceCheck(env,pi,method='TD0',alpha=0.1)"
   ]
  },
  {
   "cell_type": "code",
   "execution_count": 17,
   "metadata": {},
   "outputs": [],
   "source": [
    "#td0_error = pRL.Plot_MSEvEpisodes(env, pi, V_opt, method='TD0', alpha=0.1)"
   ]
  },
  {
   "cell_type": "code",
   "execution_count": 18,
   "metadata": {},
   "outputs": [],
   "source": [
    "pi = [2,2,2,1,1,'H',2,1,2,2,2,'G']\n",
    "alphas = np.linspace(0.01,1,100)\n",
    "error = np.zeros_like(alphas)\n",
    "\n",
    "for idx, a in enumerate(alphas):\n",
    "    V_TD0 = pRL.TD0(env, pi, alpha=a, num_episodes=1000)\n",
    "    error[idx] = np.linalg.norm(np.subtract(V_TD0,V_opt),ord=2) / len(error)"
   ]
  },
  {
   "attachments": {},
   "cell_type": "markdown",
   "metadata": {},
   "source": [
    "!pip install matplotlib"
   ]
  },
  {
   "cell_type": "code",
   "execution_count": 19,
   "metadata": {},
   "outputs": [
    {
     "data": {
      "image/png": "[encoded data removed]",
      "text/plain": [
       "<Figure size 640x480 with 1 Axes>"
      ]
     },
     "metadata": {},
     "output_type": "display_data"
    }
   ],
   "source": [
    "plt.plot(alphas,error)\n",
    "plt.xlabel('Alpha')\n",
    "plt.ylabel('MSE')\n",
    "plt.title('MSE of TD0-Estimated Value Vector as a Function of Alpha, over 1000 episodes');"
   ]
  },
  {
   "cell_type": "code",
   "execution_count": 20,
   "metadata": {},
   "outputs": [],
   "source": [
    "pi = [2,2,2,1,1,'H',2,1,2,2,2,'G']\n",
    "alphas = [0.01,0.02,0.03,0.04,0.05,0.1,0.15]\n",
    "episodes = np.linspace(10,1000,10,dtype=int)\n",
    "error = np.zeros((len(alphas),len(episodes)))\n",
    "\n",
    "#for i, a in enumerate(alphas):\n",
    "#    for j, e in enumerate(episodes):\n",
    "#        res = []\n",
    "#        for _ in range(10):\n",
    "#            V_TD0 = pRL.TD0(env, pi, alpha=a, num_episodes=e)\n",
    "#            res.append(np.linalg.norm(np.subtract(V_TD0,V_opt),ord=2) / len(episodes))\n",
    "#        error[i][j] = np.mean(res)"
   ]
  },
  {
   "cell_type": "code",
   "execution_count": 21,
   "metadata": {},
   "outputs": [
    {
     "data": {
      "image/png": "[encoded data removed]",
      "text/plain": [
       "<Figure size 1200x500 with 1 Axes>"
      ]
     },
     "metadata": {},
     "output_type": "display_data"
    }
   ],
   "source": [
    "plt.rcParams[\"figure.figsize\"] = (12,5)\n",
    "for i, a in enumerate(alphas):\n",
    "    plt.plot(episodes,error[i], label=str(a))\n",
    "plt.legend(title='Alpha')\n",
    "plt.xlabel('Episodes')\n",
    "plt.ylabel('MSE')\n",
    "plt.title('MSE of TD0-Estimated Value Vector as a Function of the Number of Episodes, for Various Alpha between 0.01 and 0.15');"
   ]
  },
  {
   "cell_type": "code",
   "execution_count": 22,
   "metadata": {},
   "outputs": [],
   "source": [
    "alphas = [0.01,0.1,0.25,0.5,0.75,1]\n",
    "episodes = np.linspace(10,1000,10,dtype=int)\n",
    "error = np.zeros((len(alphas),len(episodes)))\n",
    "\n",
    "#for i, a in enumerate(alphas):\n",
    "#    for j, e in enumerate(episodes):\n",
    "#        res = []\n",
    "#        for _ in range(10):\n",
    "#            V_TD0 = pRL.TD0(env, pi, alpha=a, num_episodes=e)\n",
    "#            res.append(np.linalg.norm(np.subtract(V_TD0,V_opt),ord=2) / len(episodes))\n",
    "#        error[i][j] = np.mean(res)"
   ]
  },
  {
   "cell_type": "code",
   "execution_count": 23,
   "metadata": {},
   "outputs": [
    {
     "data": {
      "image/png": "[encoded data removed]",
      "text/plain": [
       "<Figure size 1200x500 with 1 Axes>"
      ]
     },
     "metadata": {},
     "output_type": "display_data"
    }
   ],
   "source": [
    "plt.rcParams[\"figure.figsize\"] = (12,5)\n",
    "for i, a in enumerate(alphas):\n",
    "    plt.plot(episodes,error[i], label=str(a))\n",
    "plt.legend(title='Alpha')\n",
    "plt.xlabel('Episodes')\n",
    "plt.ylabel('MSE')\n",
    "plt.title('MSE of TD0-Estimated Value Vector as a Function of the Number of Episodes, for Various Alpha between 0.01 and 1');"
   ]
  },
  {
   "cell_type": "code",
   "execution_count": 24,
   "metadata": {},
   "outputs": [],
   "source": [
    "episodes = np.linspace(10,1000,10,dtype=int)\n",
    "error = np.zeros_like(episodes,dtype=float)\n",
    "\n",
    "for i, e in enumerate(episodes):\n",
    "    res = []\n",
    "    for _ in range(100):\n",
    "        V_TD0 = pRL.TD0(env, pi, num_episodes=e, adaptive=True)\n",
    "        res.append(np.linalg.norm(np.subtract(V_TD0,V_opt),ord=2) / len(episodes))\n",
    "    error[i] = np.mean(res)"
   ]
  },
  {
   "cell_type": "code",
   "execution_count": 25,
   "metadata": {},
   "outputs": [
    {
     "data": {
      "image/png": "[encoded data removed]",
      "text/plain": [
       "<Figure size 640x480 with 1 Axes>"
      ]
     },
     "metadata": {},
     "output_type": "display_data"
    }
   ],
   "source": [
    "plt.rcParams[\"figure.figsize\"] = plt.rcParamsDefault[\"figure.figsize\"]\n",
    "plt.plot(episodes,error)\n",
    "plt.xlabel('Episodes')\n",
    "plt.ylabel('MSE')\n",
    "plt.title('MSE of TD0-Estimated Value Vector as a Function of the Number of Episodes, with Adaptive Alpha');"
   ]
  },
  {
   "attachments": {},
   "cell_type": "markdown",
   "metadata": {},
   "source": [
    "#### (2.2.3) Adaptive Dynamic Programming (ADP)\n",
    "\n",
    "(Model-Based)"
   ]
  },
  {
   "cell_type": "code",
   "execution_count": 26,
   "metadata": {},
   "outputs": [
    {
     "name": "stdout",
     "output_type": "stream",
     "text": [
      "ADP-Estimated Value Vector after 1000 episodes:\n",
      " [[-0.03337953  0.22192044  0.99834906  0.99899502]\n",
      " [-0.46271864 -1.          0.99920144  0.99939518]\n",
      " [-0.1020523   0.12328419  0.99944586  1.        ]] \n",
      "\n"
     ]
    }
   ],
   "source": [
    "pi = [2,2,2,1,1,'H',2,1,2,2,2,'G']\n",
    "num_episodes = 1000\n",
    "\n",
    "T,R = pRL.ADP(env,pi,num_episodes=num_episodes)\n",
    "V_adp = pRL.ADP_PolicyEval(T, R, pi, gamma=1, theta=10**-3)\n",
    "\n",
    "print(\"ADP-Estimated Value Vector after\", num_episodes, \"episodes:\\n\", np.reshape(V_adp,(3,4)),\"\\n\")"
   ]
  },
  {
   "cell_type": "code",
   "execution_count": 27,
   "metadata": {},
   "outputs": [],
   "source": [
    "#pRL.ConvergenceCheck(env,pi,method='ADP',eps=10**-1)"
   ]
  },
  {
   "cell_type": "code",
   "execution_count": 28,
   "metadata": {},
   "outputs": [],
   "source": [
    "#adp_error = pRL.Plot_MSEvEpisodes(env, pi, V_opt, method='ADP')"
   ]
  },
  {
   "attachments": {},
   "cell_type": "markdown",
   "metadata": {},
   "source": [
    "#### (2.2.4) Empirical Comparison of Passive RL Approaches"
   ]
  },
  {
   "cell_type": "code",
   "execution_count": 29,
   "metadata": {},
   "outputs": [
    {
     "name": "stderr",
     "output_type": "stream",
     "text": [
      "No artists with labels found to put in legend.  Note that artists whose label start with an underscore are ignored when legend() is called with no argument.\n"
     ]
    },
    {
     "data": {
      "image/png": "[encoded data removed]",
      "text/plain": [
       "<Figure size 1200x500 with 1 Axes>"
      ]
     },
     "metadata": {},
     "output_type": "display_data"
    }
   ],
   "source": [
    "episodes = np.linspace(10,1000,10,dtype=int)\n",
    "\n",
    "plt.rcParams[\"figure.figsize\"] = (12,5)\n",
    "#plt.plot(episodes, mc_error, label='Monte Carlo')\n",
    "#plt.plot(episodes, adp_error, label='Adaptive DP')\n",
    "#plt.plot(episodes, td0_error, label='TD0, alpha=0.1')\n",
    "\n",
    "plt.legend(title='Approach')\n",
    "plt.xlabel('Episodes')\n",
    "plt.ylabel('MSE')\n",
    "plt.title('MSE of Estimated Value Vector as a Function of the Number of Episodes, for Various Approaches');"
   ]
  },
  {
   "attachments": {},
   "cell_type": "markdown",
   "metadata": {},
   "source": [
    "### (2.3) Active RL\n",
    "\n",
    "#### (2.3.1) ADP-Based Active RL\n",
    "\n",
    "(Model-Based)\n",
    "\n",
    "#### (2.3.2) SARSA (TD Learning-Based Active RL)\n",
    "\n",
    "(Model-Based)\n",
    "\n",
    "<p align=\"center\">\n",
    "  <img src=\"Graphics/SARSA.PNG\" width=600/>\n",
    "</p>"
   ]
  },
  {
   "cell_type": "code",
   "execution_count": 176,
   "metadata": {},
   "outputs": [
    {
     "name": "stdout",
     "output_type": "stream",
     "text": [
      "[0, 1]\n"
     ]
    }
   ],
   "source": [
    "liste = [1,0,-np.inf]\n",
    "\n",
    "valid = [i for i in range(len(liste)) if liste[i] > -np.inf]\n",
    "\n",
    "#valid = np.argwhere(list != -np.inf)\n",
    "#print(list[list != 0])\n",
    "print(valid)"
   ]
  },
  {
   "cell_type": "code",
   "execution_count": 231,
   "metadata": {},
   "outputs": [],
   "source": [
    "def Init_Q(env):\n",
    "    Q_0 = [[-np.inf for _ in range(env.nA)] for _ in range(env.nS)] # initialize the quality vector arbitrarily, ensuring that Q=0 for all terminal states\n",
    "    allowable_actions = [(1,2),(0,1,2),(0,1,2),(0,1),(1,2,3),'H',(0,1,2,3),(0,1,3),(2,3),(0,2,3),(0,2,3),'G']\n",
    "    \n",
    "    for q in range(len(Q_0)):\n",
    "        if allowable_actions[q]=='H' or allowable_actions[q]=='G':\n",
    "            Q_0[q] = [0]\n",
    "        else:\n",
    "            for a in allowable_actions[q]:\n",
    "                Q_0[q][a] = 0\n",
    "    return Q_0\n",
    "\n",
    "def SARSA(env, alpha=0.5, gamma=1, epsilon=0.5, num_episodes=100, adaptive=False, decay=0.01):\n",
    "    Q = Init_Q(env)\n",
    "\n",
    "    for e in range(num_episodes):\n",
    "        s = env.reset() # start a new episode, assume the initial state isn't terminal\n",
    "        a = np.argmax(Q[s]) # choose the action that maximizes Q (greedy)\n",
    "        \n",
    "        done = False\n",
    "        while not done:\n",
    "            new_s, R, done, _ = env.step(a)\n",
    "\n",
    "            exp_exp_tradeoff = np.random.uniform(0,1)\n",
    "            if exp_exp_tradeoff > epsilon: # exploitation\n",
    "                new_a = np.argmax(Q[new_s]) # choose the action that maximizes Q (greedy)\n",
    "            else: # exploration\n",
    "                valid = [i for i in range(len(Q[new_s])) if Q[new_s][i] > -np.inf]\n",
    "                new_a = np.random.choice(valid) # choose random valid action\n",
    "                \n",
    "            if done:\n",
    "                Q[s][a] += alpha*(R - Q[s][a]) # TD step for terminal states\n",
    "            else:\n",
    "                Q[s][a] += alpha*(R + gamma*Q[new_s][new_a] - Q[s][a]) # TD step for non-terminal states\n",
    "            \n",
    "            s = new_s; a = new_a\n",
    "\n",
    "        if adaptive:\n",
    "            epsilon = np.exp(-decay*e)\n",
    "            #print(epsilon) \n",
    "    return Q\n",
    "\n",
    "def PolicyExtraction(Q):\n",
    "    pi = [None]*len(Q)\n",
    "    for s in range(len(Q)):\n",
    "        pi[s] = np.argmax(Q[s])\n",
    "    pi[5] = 'H'; pi[11] = 'G' \n",
    "    return pi"
   ]
  },
  {
   "cell_type": "code",
   "execution_count": 232,
   "metadata": {},
   "outputs": [
    {
     "name": "stdout",
     "output_type": "stream",
     "text": [
      "[[-inf, -0.7111695624058635, 0.0072447472460813525, -inf], [-0.8114656844687369, -0.8802866212677739, 0.04606513661336231, -inf], [0.2556853108365427, 0.28764894796230994, 0.9999999999999991, -inf], [0.6421464522638518, 0.9999999999999993, -inf, -inf], [-inf, -0.2896223428544613, -0.9357804096598438, -0.9418701589115275], [-0.9999999999999998], [-0.28172873611101446, 0.25510822008608575, 0.9999999999999993, 0.18338316066435967], [0.7166665594204722, 0.9999999999999996, -inf, 0.2868145635426223], [-inf, -inf, 0.3235037678815693, -0.7679350232982779], [-0.7944646055779399, -inf, 0.26200614826111707, -0.7716275270580396], [-0.09366917485745829, -inf, 0.9999999999999996, 0.13657287230187254], [0.9999999999999998]]\n"
     ]
    }
   ],
   "source": [
    "Q = SARSA(env, alpha=0.2, gamma=1, epsilon=0.5, num_episodes=10000, adaptive=True, decay=0.01)\n",
    "print(Q)"
   ]
  },
  {
   "cell_type": "code",
   "execution_count": 233,
   "metadata": {},
   "outputs": [
    {
     "name": "stdout",
     "output_type": "stream",
     "text": [
      "Policy:\n",
      " [['>' '>' '>' 'v']\n",
      " ['v' 'H' '>' 'v']\n",
      " ['>' '>' '>' 'G']]\n"
     ]
    }
   ],
   "source": [
    "pi = PolicyExtraction(Q)\n",
    "EnvSetup.show_policy(pi)"
   ]
  },
  {
   "attachments": {},
   "cell_type": "markdown",
   "metadata": {},
   "source": [
    "\"\"\"\n",
    "LEFT = 0\n",
    "DOWN = 1\n",
    "RIGHT = 2\n",
    "UP = 3\n",
    "\"\"\""
   ]
  },
  {
   "attachments": {},
   "cell_type": "markdown",
   "metadata": {},
   "source": [
    "#### (2.3.3) Q Learning\n",
    "\n",
    "(Model-Free)\n",
    "\n",
    "<p align=\"center\">\n",
    "  <img src=\"Graphics/QLearning.PNG\" width=600/>\n",
    "</p>"
   ]
  },
  {
   "cell_type": "code",
   "execution_count": 234,
   "metadata": {},
   "outputs": [],
   "source": [
    "def QLearning(env, alpha=0.5, gamma=1, epsilon=0.5, num_episodes=100, adaptive=False, decay=0.01):\n",
    "    Q = Init_Q(env)\n",
    "    for _ in range(num_episodes):\n",
    "        s = env.reset() # start a new episode, assume the initial state isn't terminal\n",
    "        done = False\n",
    "        while not done:\n",
    "\n",
    "            exp_exp_tradeoff = np.random.uniform(0,1)\n",
    "            if exp_exp_tradeoff > epsilon: # exploitation\n",
    "                a = np.argmax(Q[s]) # choose the action that maximizes Q (greedy)\n",
    "            else: # exploration\n",
    "                valid = [i for i in range(len(Q[s])) if Q[s][i] > -np.inf]\n",
    "                a = np.random.choice(valid) # choose random valid action\n",
    "\n",
    "            new_s, R, done, _ = env.step(a)\n",
    "                \n",
    "            if done:\n",
    "                Q[s][a] += alpha*(R - Q[s][a]) # Q Learning step for terminal states\n",
    "            else:\n",
    "                Q[s][a] += alpha*(R + gamma*np.max(Q[new_s]) - Q[s][a]) # Q Learning step for non-terminal states\n",
    "            \n",
    "            s = new_s\n",
    "\n",
    "            if adaptive:\n",
    "                epsilon = np.exp(-decay*e)\n",
    "                #print(epsilon) \n",
    "    return Q"
   ]
  },
  {
   "cell_type": "code",
   "execution_count": 241,
   "metadata": {},
   "outputs": [
    {
     "name": "stdout",
     "output_type": "stream",
     "text": [
      "[[-inf, -0.3750989681902216, -0.7606114603547802, -inf], [-0.8628581891015933, -0.8669279577668699, 0.25508234637099025, -inf], [-0.04943607302538065, 0.11372785834207852, 0.9999999999999991, -inf], [0.9999999999999993, 0.19898088767182978, -inf, -inf], [-inf, -0.7018141568318623, -0.9530821661541649, -0.9435917676635275], [-0.9999999999999998], [-0.16644556800000002, -0.19998638870532315, 0.9999999999999993, 0], [0.9999999999999996, 0, -inf, 0], [-inf, -inf, -0.023315308334789994, -0.8025030459677158], [-0.8538880748421791, -inf, -0.4685043193462214, -0.84026357935513], [-0.003784808496318846, -inf, 0.9999999999999996, 0], [0.9999999999999998]]\n"
     ]
    }
   ],
   "source": [
    "Q = QLearning(env, alpha=0.2, gamma=1, epsilon=0.5, num_episodes=10000, adaptive=True, decay=0.01)\n",
    "print(Q)"
   ]
  },
  {
   "cell_type": "code",
   "execution_count": 242,
   "metadata": {},
   "outputs": [
    {
     "name": "stdout",
     "output_type": "stream",
     "text": [
      "Policy:\n",
      " [['v' '>' '>' '<']\n",
      " ['v' 'H' '>' '<']\n",
      " ['>' '>' '>' 'G']]\n"
     ]
    }
   ],
   "source": [
    "pi = PolicyExtraction(Q)\n",
    "EnvSetup.show_policy(pi)"
   ]
  },
  {
   "attachments": {},
   "cell_type": "markdown",
   "metadata": {},
   "source": [
    "## (3) RDDLGym for Planning"
   ]
  },
  {
   "attachments": {},
   "cell_type": "markdown",
   "metadata": {},
   "source": [
    "## (4) Conclusion\n",
    "\n",
    "In this tutorial, we:\n",
    "* Introduced the basic concepts of probabilistic planning and reinforcement learning\n",
    "* Learned how to code basic PP and RL problems using AI Gym and RDDLGym\n",
    "\n",
    "This was the last tutorial for the semester, all that's left now is for you to do homeworks #3 and 4 along with your final projects. Thank you guys so much for being an awesome class, and I wish you all the best for your futures! May the force be with you."
   ]
  },
  {
   "cell_type": "markdown",
   "metadata": {},
   "source": [
    "#### ***Credit:** This tutorial was written by Yotam Granov, Winter 2022.*"
   ]
  },
  {
   "attachments": {},
   "cell_type": "markdown",
   "metadata": {},
   "source": [
    "### **References**\n",
    "\n",
    "[1] R. Sutton & A. Barto. [\"Reinforcement Learning: An Introduction (2nd Edition)\"](https://web.stanford.edu/class/psych209/Readings/SuttonBartoIPRLBook2ndEd.pdf), 2015."
   ]
  }
 ],
 "metadata": {
  "kernelspec": {
   "display_name": "Python 3",
   "language": "python",
   "name": "python3"
  },
  "language_info": {
   "codemirror_mode": {
    "name": "ipython",
    "version": 3
   },
   "file_extension": ".py",
   "mimetype": "text/x-python",
   "name": "python",
   "nbconvert_exporter": "python",
   "pygments_lexer": "ipython3",
   "version": "3.8.10"
  },
  "vscode": {
   "interpreter": {
    "hash": "916dbcbb3f70747c44a77c7bcd40155683ae19c65e1c03b4aa3499c5328201f1"
   }
  }
 },
 "nbformat": 4,
 "nbformat_minor": 4
}
