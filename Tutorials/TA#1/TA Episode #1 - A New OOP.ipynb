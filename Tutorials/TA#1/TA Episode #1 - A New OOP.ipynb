{
 "cells": [
  {
   "cell_type": "markdown",
   "metadata": {},
   "source": [
    "<p align=\"center\">\n",
    "  <img src=\"Graphics/Episode I.png\" />\n",
    "</p>"
   ]
  },
  {
   "cell_type": "markdown",
   "metadata": {},
   "source": [
    "## (0) Welcome to Cognitive Robotics (097244)!"
   ]
  },
  {
   "cell_type": "markdown",
   "metadata": {},
   "source": [
    "My name is Yotam and I will be your Teaching Assistant (TA) for the course this semester. I'm very excited to explore the field of `cognitive robotics` with you!\n",
    "\n",
    "In this course, we will discuss various applications of `artificial intelligence` methods to complex problems in robotics. We will not answer questions like \"Can robots really think?\", \"Would robots take over the world if they could?\", or \"Do robots dream of electric sheep?\", since these remain the intrigues of science fiction, at least for now.\n",
    "\n",
    "We will focus on real-world problems faced by cutting-edge robots, such as \"How do we give robots the ability to plan and reason?\", \"How can a robot move efficiently from point A to point B without colliding with any obstacles?\", and \"How can robots learn from their environment?\". We will explore the limits of robotics and artificial intelligence as they are today, and we will tackle a wide variety of challenges and modern methods in these fields.\n",
    "\n",
    "<p align=\"center\">\n",
    "  <img src=\"Graphics/Droids.jpg\" />\n",
    "</p>"
   ]
  },
  {
   "cell_type": "markdown",
   "metadata": {},
   "source": [
    "### (0.1) Tutorial Logistics\n",
    "\n",
    "Throughout the semester, we will have 12-13 weekly tutorial sessions here in Bloomfield 153, with sessions on Sundays and Wednesdays. Most, if not all, of these tutorials will be written in interactive Python notebooks (`.ipynb` files), that require a platform like Jupyter or an IDE (Integrated Development Environment) like Visual Studio Code in order to run. I highly recommend that you bring a laptop to each tutorial session, so that you may follow along with me as we work through the tutorial. I will try to make the tutorials as interactive and accessible as possible, so that you may get the most out of the material.\n",
    "\n",
    "For this semester, I am writing brand new tutorials that diverge from those used in previous years. If you spot any mistakes or bugs in these tutorials, please let me know so I can fix them immediately (I actively encourage you to look for mistakes)!"
   ]
  },
  {
   "cell_type": "markdown",
   "metadata": {},
   "source": [
    "### (0.2) Learning Outcomes\n",
    "\n",
    "In this tutorial, we will cover:\n",
    "* Why Python?\n",
    "* What is object-oriented programming (OOP)?\n",
    "* How can we use Python as an OOP language?\n",
    "* What are the benefits of using OOP for robotics (and in general)?"
   ]
  },
  {
   "cell_type": "markdown",
   "metadata": {},
   "source": [
    "## (1) Python for Robotics"
   ]
  },
  {
   "cell_type": "markdown",
   "metadata": {},
   "source": [
    "As I already mentioned, we will look to `Python` as the main programming language for this course. Python is a high-level, general-purpose programming language which emphasizes code readability and ease of use, and consistently ranks as one of the most popular programming languages in the world. It is dynamically-typed and garbage-collected, and supports multiple programming paradigms, such as procedural, object-oriented, and functional programming. It was invented by the Dutch programmer Guido van Rossum and initially released in 1991. [[1]](https://www.python.org/about/)\n",
    "\n",
    "**Fun Fact:** Guido was officially known as the \"Benevolent Dictator for Life\" (BDFL) of Python from 1995 until he stepped down from the position in 2018. He was the first person in the programming community to use this title. [[2]](https://www.artima.com/weblogs/viewpost.jsp?thread=235725)"
   ]
  },
  {
   "cell_type": "markdown",
   "metadata": {},
   "source": [
    "Python is one of the most prevalent languages used in robotics today (the other main ones being C++ and Java), as it is excellent for quick development and prototyping, and in the case of this course, thrives as an educational tool for tomorrow's roboticists. It's the obvious choice for this course, and we will expect you guys to have a higher-than-basic (though not necessarily expert) familiarity with Python in order for us to be able to do cool things with it. For those of you who aren't super comfortable with Python yet (i.e. if you've only taken the Technion's basic \"Introduction to Computing with Python\" course), here are some resources that could help you sharpen up your Python skills and get to sufficient level for this course:\n",
    "\n",
    "(1) [CS50’s Introduction to Programming with Python](https://cs50.harvard.edu/python/2022/): CS50 is Harvard University's introduction to computer science course and well-known for being one of the best in the world (and it's free!). The material in this course should serve as a review for you of the fundamental concepts in Python programming.\n",
    "\n",
    "(2) [CS50’s Introduction to Artificial Intelligence with Python](https://cs50.harvard.edu/ai/2020/): This is the follow-up course to CS50, and introduces the basic principles of artificial intelligence with Python. It covers some of the basic topics that we will use in our course (though not extensively), and can serve as a great resource for improving your Python skills.\n",
    "\n",
    "(3) [Level Up Your Python](https://henryiii.github.io/level-up-your-python/notebooks/0%20Intro.html): A nice free resource that covers intermediate Python methods and topics.\n",
    "\n",
    "(4) [Real Python](https://realpython.com/): A great resource for learning about a very wide variety of topics related to Python, and we will even rely on some of their articles here in this tutorial. They even wrote an article on [11 Beginner Tips for Learning Python Programming](https://realpython.com/python-beginner-tips/).\n",
    "\n",
    "(5) [Python's Documentation](https://docs.python.org/3): Be sure to use it often!\n",
    "\n",
    "There are many many more such resources available for free across the Internet, if you'd like help finding them I'd be more than happy to assist!"
   ]
  },
  {
   "cell_type": "markdown",
   "metadata": {},
   "source": [
    "## (2) Object-Oriented Programming (OOP) in Python"
   ]
  },
  {
   "cell_type": "markdown",
   "metadata": {},
   "source": [
    "Object-oriented programming is a *programming paradigm* that provides a means of structuring programs so that properties and behaviors are bundled into individual *objects*. We can create objects by *classes* and define *attributes* and *methods* to every one of them. A class is similar to how an architect's blueprint plans are not the house; they are the instructions of how to build the house. The house is the actual thing or object instance created according to the blueprint."
   ]
  },
  {
   "cell_type": "markdown",
   "metadata": {},
   "source": [
    "### (2.1) Class Definition"
   ]
  },
  {
   "cell_type": "markdown",
   "metadata": {},
   "source": [
    "All class definitions start with the `class` keyword, which is followed by the name of the class and a colon. Any code that is indented below the class definition is considered part of the class’s body.\n",
    "\n",
    "Here’s an example of a `Droid` class:"
   ]
  },
  {
   "cell_type": "code",
   "execution_count": 11,
   "metadata": {},
   "outputs": [],
   "source": [
    "class Droid:\n",
    "    pass"
   ]
  },
  {
   "cell_type": "markdown",
   "metadata": {},
   "source": [
    "The body of the `Droid` class consists of a single statement: the `pass` keyword. `pass` is often used as a placeholder indicating where code will eventually go. It allows you to run this code without Python throwing an error.\n",
    "\n",
    "**Note:** Python class names are written in CapitalizedWords notation by convention. For example, a class for a specific model of droid like the astromech droid would be written as AstromechDroid."
   ]
  },
  {
   "cell_type": "markdown",
   "metadata": {},
   "source": [
    "The `Droid` class isn’t very interesting right now, so let’s spruce it up a bit by defining some properties that all `Droid` objects should have. There are a number of properties that we can choose from, including name, model, manufacturer, and owner (disclaimer: we will not discuss the ethics of robot subjugation and slavery in this course). To keep things simple, we’ll just use name and model.\n",
    "\n",
    "The properties that all `Droid` objects must have are defined in a method called `.__init__()`. Every time a new `Droid` object is created, `.__init__()` sets the initial state of the object by assigning the values of the object’s properties. That is, `.__init__()` initializes each new instance of the class.  We say that `__init__` defines the *constructor* of the class in Python.\n",
    "\n",
    "You can give `.__init__()` any number of parameters, but the first parameter will always be a variable called `self`. When a new class instance is created, the instance is automatically passed to the `self` parameter in `.__init__()` so that new attributes can be defined on the object.\n",
    "\n",
    "Let’s update the `Droid` class with an `.__init__()` method that creates `.name` and `.model` attributes:"
   ]
  },
  {
   "cell_type": "code",
   "execution_count": 12,
   "metadata": {},
   "outputs": [],
   "source": [
    "class Droid:\n",
    "    def __init__(self, name, model):\n",
    "        self.name = name\n",
    "        self.model = model"
   ]
  },
  {
   "cell_type": "markdown",
   "metadata": {},
   "source": [
    "Notice that the `.__init__()` method’s signature is indented four spaces. The body of the method is indented by eight spaces. This indentation is vitally important. It tells Python that the `.__init__()` method belongs to the `Droid` class.\n",
    "\n",
    "In the body of `.__init__()`, there are two statements using the self variable:\n",
    "1. `self.name = name` creates an attribute called name and assigns to it the value of the name parameter.\n",
    "2. `self.model = model` creates an attribute called model and assigns to it the value of the model parameter.\n",
    "\n",
    "Attributes created in `.__init__()` are called *instance attributes*. An instance attribute’s value is specific to a particular instance of the class. All `Droid` objects have a name and a model, but the values for the name and model attributes will vary depending on the `Droid` instance.\n",
    "\n",
    "On the other hand, *class attributes* are attributes that have the same value for all class instances. You can define a class attribute by assigning a value to a variable name outside of `.__init__()`.\n",
    "\n",
    "For example, the following `Droid` class has a class attribute called `species` with the value \"droid\":"
   ]
  },
  {
   "cell_type": "code",
   "execution_count": 13,
   "metadata": {},
   "outputs": [],
   "source": [
    "class Droid:\n",
    "    # Class attribute\n",
    "    species = \"droid\"\n",
    "\n",
    "    def __init__(self, name, model):\n",
    "        self.name = name\n",
    "        self.model = model"
   ]
  },
  {
   "cell_type": "markdown",
   "metadata": {},
   "source": [
    "Class attributes are defined directly beneath the first line of the class name and are indented by four spaces. They must always be assigned an initial value. When an instance of the class is created, class attributes are automatically created and assigned to their initial values.\n",
    "\n",
    "Use class attributes to define properties that should have the same value for every class instance. Use instance attributes for properties that vary from one instance to another.\n",
    "\n",
    "Now that we have a `Droid` class, let’s create some droids!"
   ]
  },
  {
   "cell_type": "markdown",
   "metadata": {},
   "source": [
    "### (2.2) Object Instantiation"
   ]
  },
  {
   "cell_type": "markdown",
   "metadata": {},
   "source": [
    "Let's redefine the `Droid` class as follows:"
   ]
  },
  {
   "cell_type": "code",
   "execution_count": 14,
   "metadata": {},
   "outputs": [],
   "source": [
    "class Droid:\n",
    "    pass"
   ]
  },
  {
   "cell_type": "markdown",
   "metadata": {},
   "source": [
    "This creates a new `Droid` class with no attributes or methods.\n",
    "\n",
    "Creating a new object from a class is called *instantiating* an object. You can instantiate a new `Droid` object by typing the name of the class, followed by opening and closing parentheses:"
   ]
  },
  {
   "cell_type": "code",
   "execution_count": 15,
   "metadata": {},
   "outputs": [
    {
     "data": {
      "text/plain": [
       "<__main__.Droid at 0x1de0bfa47f0>"
      ]
     },
     "execution_count": 15,
     "metadata": {},
     "output_type": "execute_result"
    }
   ],
   "source": [
    "Droid()"
   ]
  },
  {
   "cell_type": "markdown",
   "metadata": {},
   "source": [
    "You now have a new `Droid` object at a *memory address* represented by a funny-looking string of letters and numbers. This memory address indicates where the `Droid` object is stored in your computer’s memory.\n",
    "\n",
    "Now instantiate a second `Droid` object:"
   ]
  },
  {
   "cell_type": "code",
   "execution_count": 16,
   "metadata": {},
   "outputs": [
    {
     "data": {
      "text/plain": [
       "<__main__.Droid at 0x1de0bfa44f0>"
      ]
     },
     "execution_count": 16,
     "metadata": {},
     "output_type": "execute_result"
    }
   ],
   "source": [
    "Droid()"
   ]
  },
  {
   "cell_type": "markdown",
   "metadata": {},
   "source": [
    "The new `Droid` instance is located at a different memory address. That’s because it’s an entirely new instance and is completely unique from the first `Droid` object that you instantiated.\n",
    "\n",
    "To see this another way, type the following:"
   ]
  },
  {
   "cell_type": "code",
   "execution_count": 17,
   "metadata": {},
   "outputs": [
    {
     "data": {
      "text/plain": [
       "False"
      ]
     },
     "execution_count": 17,
     "metadata": {},
     "output_type": "execute_result"
    }
   ],
   "source": [
    "a = Droid()\n",
    "b = Droid()\n",
    "a == b"
   ]
  },
  {
   "cell_type": "markdown",
   "metadata": {},
   "source": [
    "In this code, you create two new `Droid` objects and assign them to the variables `a` and `b`. When you compare `a` and `b` using the `==` operator, the result is `False`. Even though `a` and `b` are both instances of the `Droid` class, they represent two distinct objects in memory."
   ]
  },
  {
   "cell_type": "markdown",
   "metadata": {},
   "source": [
    "### (2.3) Attributes"
   ]
  },
  {
   "cell_type": "markdown",
   "metadata": {},
   "source": [
    "Now create a new `Droid` class with a class attribute called `.species` and two instance attributes called `.name` and `.model`:"
   ]
  },
  {
   "cell_type": "code",
   "execution_count": 18,
   "metadata": {},
   "outputs": [],
   "source": [
    "class Droid:\n",
    "    # Class attribute\n",
    "    species = \"droid\"\n",
    "\n",
    "    def __init__(self, name, model):\n",
    "        self.name = name\n",
    "        self.model = model"
   ]
  },
  {
   "cell_type": "markdown",
   "metadata": {},
   "source": [
    "To instantiate objects of this `Droid` class, you need to provide values for the name and model. If you don’t, then Python raises a `TypeError`:"
   ]
  },
  {
   "cell_type": "code",
   "execution_count": 19,
   "metadata": {},
   "outputs": [
    {
     "ename": "TypeError",
     "evalue": "__init__() missing 2 required positional arguments: 'name' and 'model'",
     "output_type": "error",
     "traceback": [
      "\u001b[1;31m---------------------------------------------------------------------------\u001b[0m",
      "\u001b[1;31mTypeError\u001b[0m                                 Traceback (most recent call last)",
      "\u001b[1;32m<ipython-input-19-679f24b28610>\u001b[0m in \u001b[0;36m<module>\u001b[1;34m\u001b[0m\n\u001b[1;32m----> 1\u001b[1;33m \u001b[0mDroid\u001b[0m\u001b[1;33m(\u001b[0m\u001b[1;33m)\u001b[0m\u001b[1;33m\u001b[0m\u001b[1;33m\u001b[0m\u001b[0m\n\u001b[0m",
      "\u001b[1;31mTypeError\u001b[0m: __init__() missing 2 required positional arguments: 'name' and 'model'"
     ]
    }
   ],
   "source": [
    "Droid()"
   ]
  },
  {
   "cell_type": "markdown",
   "metadata": {},
   "source": [
    "To pass arguments to the name and model parameters, put values into the parentheses after the class name:"
   ]
  },
  {
   "cell_type": "code",
   "execution_count": 20,
   "metadata": {},
   "outputs": [],
   "source": [
    "r2d2 = Droid(\"R2-D2\", \"astromech\")\n",
    "c3po = Droid(\"C-3PO\", \"protocol\")"
   ]
  },
  {
   "cell_type": "markdown",
   "metadata": {},
   "source": [
    "This creates two new `Droid` instances — one for an astromech droid named R2D2 and one for a protocol droid named C3PO.\n",
    "\n",
    "The `Droid` class’s `.__init__()` method has three parameters, so why are only two arguments passed to it in the example?\n",
    "\n",
    "When you instantiate a `Droid` object, Python creates a new instance and passes it to the first parameter of `.__init__()`. This essentially removes the self parameter, so you only need to worry about the name and model parameters.\n",
    "\n",
    "After you create the `Droid` instances, you can access their instance attributes using dot notation:"
   ]
  },
  {
   "cell_type": "code",
   "execution_count": 21,
   "metadata": {},
   "outputs": [
    {
     "name": "stdout",
     "output_type": "stream",
     "text": [
      "R2-D2 is an astromech droid.\n",
      "C-3PO is a protocol droid.\n"
     ]
    }
   ],
   "source": [
    "print(r2d2.name + ' is an ' + r2d2.model + ' droid.')\n",
    "print(c3po.name + ' is a ' + c3po.model + ' droid.')"
   ]
  },
  {
   "cell_type": "markdown",
   "metadata": {},
   "source": [
    "You can access class attributes the same way:"
   ]
  },
  {
   "cell_type": "code",
   "execution_count": 22,
   "metadata": {},
   "outputs": [
    {
     "data": {
      "text/plain": [
       "'droid'"
      ]
     },
     "execution_count": 22,
     "metadata": {},
     "output_type": "execute_result"
    }
   ],
   "source": [
    "r2d2.species"
   ]
  },
  {
   "cell_type": "markdown",
   "metadata": {},
   "source": [
    "One of the biggest advantages of using classes to organize data is that instances are guaranteed to have the attributes you expect. All `Droid` instances have `.species`, `.name`, and `.model` attributes, so you can use those attributes with confidence knowing that they will always return a value.\n",
    "\n",
    "Although the attributes are guaranteed to exist, their values *can* be changed dynamically:"
   ]
  },
  {
   "cell_type": "code",
   "execution_count": 23,
   "metadata": {},
   "outputs": [
    {
     "data": {
      "text/plain": [
       "'Not the droid you are looking for'"
      ]
     },
     "execution_count": 23,
     "metadata": {},
     "output_type": "execute_result"
    }
   ],
   "source": [
    "c3po.name = \"Not the droid you are looking for\"\n",
    "c3po.name"
   ]
  },
  {
   "cell_type": "code",
   "execution_count": 24,
   "metadata": {},
   "outputs": [
    {
     "data": {
      "text/plain": [
       "'Gungan'"
      ]
     },
     "execution_count": 24,
     "metadata": {},
     "output_type": "execute_result"
    }
   ],
   "source": [
    "r2d2.species = \"Gungan\"\n",
    "r2d2.species"
   ]
  },
  {
   "cell_type": "markdown",
   "metadata": {},
   "source": [
    "In this example, we changed the `.name` attribute of the `c3po` object to \"Not the droid you are looking for\". Then we changed the `.species` attribute of the `r2d2` object to \"Gungan\", which is not canon (obviously). That would makes R2D2 a pretty terrible droid, but it still is valid Python!\n",
    "\n",
    "The key takeaway here is that custom objects are *mutable* by default. An object is mutable if it can be altered dynamically. For example, lists and dictionaries are mutable, but strings and tuples are *immutable*."
   ]
  },
  {
   "cell_type": "markdown",
   "metadata": {},
   "source": [
    "### (2.4) Methods"
   ]
  },
  {
   "cell_type": "markdown",
   "metadata": {},
   "source": [
    "*Instance methods* are functions that are defined inside a class and can only be called from an instance of that class. Just like `.__init__()`, an instance method’s first parameter is always `self`.\n",
    "\n",
    "Let's redefine the `Droid` class as follows:"
   ]
  },
  {
   "cell_type": "code",
   "execution_count": 25,
   "metadata": {},
   "outputs": [],
   "source": [
    "class Droid:\n",
    "    # Class attribute\n",
    "    species = \"droid\"\n",
    "\n",
    "    def __init__(self, name, model):\n",
    "        self.name = name\n",
    "        self.model = model\n",
    "\n",
    "    # Instance method\n",
    "    def description(self):\n",
    "        return f\"{self.name} is a(n) {self.model} droid.\"\n",
    "\n",
    "    # Another instance method\n",
    "    def speak(self, sound):\n",
    "        return f\"{self.name} says {sound}\""
   ]
  },
  {
   "cell_type": "markdown",
   "metadata": {},
   "source": [
    "This `Droid` class has two instance methods:\n",
    "\n",
    "1. `.description()` returns a string displaying the name and model of the droid.\n",
    "2. `.speak()` has one parameter called sound and returns a string containing the droid’s name and the sound the droid makes.\n",
    "\n",
    "Let's test out these new methods:"
   ]
  },
  {
   "cell_type": "code",
   "execution_count": 26,
   "metadata": {},
   "outputs": [
    {
     "data": {
      "text/plain": [
       "'R2-D2 is a(n) astromech droid.'"
      ]
     },
     "execution_count": 26,
     "metadata": {},
     "output_type": "execute_result"
    }
   ],
   "source": [
    "r2d2 = Droid(\"R2-D2\", \"astromech\")\n",
    "r2d2.description()"
   ]
  },
  {
   "cell_type": "code",
   "execution_count": 27,
   "metadata": {},
   "outputs": [
    {
     "data": {
      "text/plain": [
       "'R2-D2 says Beep Beep'"
      ]
     },
     "execution_count": 27,
     "metadata": {},
     "output_type": "execute_result"
    }
   ],
   "source": [
    "r2d2.speak(\"Beep Beep\")"
   ]
  },
  {
   "cell_type": "code",
   "execution_count": 28,
   "metadata": {},
   "outputs": [
    {
     "data": {
      "text/plain": [
       "'R2-D2 says Boop Boop'"
      ]
     },
     "execution_count": 28,
     "metadata": {},
     "output_type": "execute_result"
    }
   ],
   "source": [
    "r2d2.speak(\"Boop Boop\")"
   ]
  },
  {
   "cell_type": "markdown",
   "metadata": {},
   "source": [
    "In the above `Droid` class, `.description()` returns a string containing information about the `Droid` instance `r2d2`. When writing your own classes, it’s a good idea to have a method that returns a string containing useful information about an instance of the class. However, `.description()` isn’t the most Pythonic way of doing this.\n",
    "\n",
    "When you create a list object, you can use `print()` to display a string that looks like the list:"
   ]
  },
  {
   "cell_type": "code",
   "execution_count": 29,
   "metadata": {},
   "outputs": [
    {
     "name": "stdout",
     "output_type": "stream",
     "text": [
      "['R2-D2', 'C-3PO', 'BB-8']\n"
     ]
    }
   ],
   "source": [
    "names = [\"R2-D2\", \"C-3PO\", \"BB-8\"]\n",
    "print(names)"
   ]
  },
  {
   "cell_type": "markdown",
   "metadata": {},
   "source": [
    "Let’s see what happens when you `print()` the `r2d2` object:"
   ]
  },
  {
   "cell_type": "code",
   "execution_count": 30,
   "metadata": {},
   "outputs": [
    {
     "name": "stdout",
     "output_type": "stream",
     "text": [
      "<__main__.Droid object at 0x000001DE0BFA4A30>\n"
     ]
    }
   ],
   "source": [
    "print(r2d2)"
   ]
  },
  {
   "cell_type": "markdown",
   "metadata": {},
   "source": [
    "When you `print(r2d2)`, you get a cryptic looking message telling you that `r2d2` is a `Droid` object at some memory address. This message isn’t very helpful. You can change what gets printed by defining a special instance method called `.__str__()`.\n",
    "\n",
    "Let's change the name of the `Droid` class’s `.description()` method to `.__str__()`:"
   ]
  },
  {
   "cell_type": "code",
   "execution_count": 31,
   "metadata": {},
   "outputs": [],
   "source": [
    "class Droid:\n",
    "    # Class attribute\n",
    "    species = \"droid\"\n",
    "\n",
    "    def __init__(self, name, model):\n",
    "        self.name = name\n",
    "        self.model = model\n",
    "\n",
    "    def speak(self, sound):\n",
    "        return f\"{self.name} says {sound}\"\n",
    "\n",
    "    # Replace .description() with __str__()\n",
    "    def __str__(self):\n",
    "        return f\"{self.name} is a(n) {self.model} droid.\""
   ]
  },
  {
   "cell_type": "markdown",
   "metadata": {},
   "source": [
    "Now, when you `print(r2d2)`, you get a much friendlier output:"
   ]
  },
  {
   "cell_type": "code",
   "execution_count": 32,
   "metadata": {},
   "outputs": [
    {
     "name": "stdout",
     "output_type": "stream",
     "text": [
      "R2-D2 is a(n) astromech droid.\n"
     ]
    }
   ],
   "source": [
    "r2d2 = Droid(\"R2-D2\", \"astromech\")\n",
    "print(r2d2)"
   ]
  },
  {
   "cell_type": "markdown",
   "metadata": {},
   "source": [
    "Methods like `.__init__()` and `.__str__()` are called *dunder methods* because they begin and end with double underscores. There are many dunder methods that you can use to customize classes in Python. Although they are outside the scope of this course, understanding dunder methods is an important part of mastering object-oriented programming in Python.\n",
    "\n",
    "In the next section, you’ll see how to take your knowledge one step further and create classes from other classes."
   ]
  },
  {
   "cell_type": "markdown",
   "metadata": {},
   "source": [
    "### (2.5) Inheritance"
   ]
  },
  {
   "cell_type": "markdown",
   "metadata": {},
   "source": [
    "*Inheritance* is the process by which one class takes on the attributes and methods of another. Newly formed classes are called *child classes*, and the classes that child classes are derived from are called *parent classes*.\n",
    "\n",
    "Child classes can *override* or *extend* the attributes and methods of parent classes. In other words, child classes inherit all of the parent’s attributes and methods but can also specify attributes and methods that are unique to themselves.\n",
    "\n",
    "Although the analogy isn’t perfect, you can think of object inheritance sort of like genetic inheritance.\n",
    "\n",
    "You may have inherited your hair color from your mother. It’s an attribute you were born with. Let’s say you decide to color your hair purple. Assuming your mother doesn’t have purple hair, you’ve just overridden the hair color attribute that you inherited from your mom.\n",
    "\n",
    "You also inherit, in a sense, your language from your parents. If your parents speak English, then you’ll also speak English. Now imagine you decide to learn a second language, like German. In this case you’ve extended your attributes because you’ve added an attribute that your parents don’t have."
   ]
  },
  {
   "cell_type": "markdown",
   "metadata": {},
   "source": [
    "#### (2.5.1) Example: Watto's Junkshop\n",
    "Pretend for a moment that you’re at a Watto's Junkshop on Tatooine. There are many different droids of various models at the shop, all engaging in various droid behaviors.\n",
    "\n",
    "Suppose now that you want to model the junkshop with Python classes. The `Droid` class that you wrote in the previous section can distinguish droids by name and model but not by series.\n",
    "\n",
    "You could modify the `Droid` class in the editor window by adding a `.series` attribute:"
   ]
  },
  {
   "cell_type": "code",
   "execution_count": 33,
   "metadata": {},
   "outputs": [],
   "source": [
    "class Droid:\n",
    "    species = \"droid\"\n",
    "\n",
    "    def __init__(self, name, model, series):\n",
    "        self.name = name\n",
    "        self.model = model\n",
    "        self.series = series\n",
    "\n",
    "    def speak(self, sound):\n",
    "        return f\"{self.name} says {sound}\"\n",
    "\n",
    "    def __str__(self):\n",
    "        return f\"{self.name} is a(n) {self.model} droid.\""
   ]
  },
  {
   "cell_type": "markdown",
   "metadata": {},
   "source": [
    "The instance methods defined earlier are omitted here because they aren’t important for this discussion.\n",
    "\n",
    "Now you can model the junkshop by instantiating a bunch of different droids:"
   ]
  },
  {
   "cell_type": "code",
   "execution_count": 34,
   "metadata": {},
   "outputs": [],
   "source": [
    "r2d2 = Droid(\"R2-D2\", \"astromech\", \"R2\")\n",
    "bb8 = Droid(\"BB-8\", \"astromech\", \"BB\")\n",
    "c3po = Droid(\"C-3PO\", \"protocol\", \"3PO\")\n",
    "ig88 = Droid(\"IG-88\", \"assassin\", \"IG\")"
   ]
  },
  {
   "cell_type": "markdown",
   "metadata": {},
   "source": [
    "Each series of droid has slightly different behaviors. For example, astromech droids make a whistling sound, but protocol droids can communicate in over 6 million forms of communication (most importantly, English!).\n",
    "\n",
    "Using just the `Droid` class, you must supply a string for the sound argument of `.speak()` every time you call it on a `Droid` instance:"
   ]
  },
  {
   "cell_type": "code",
   "execution_count": 35,
   "metadata": {},
   "outputs": [
    {
     "data": {
      "text/plain": [
       "'R2-D2 says Beep Beep'"
      ]
     },
     "execution_count": 35,
     "metadata": {},
     "output_type": "execute_result"
    }
   ],
   "source": [
    "r2d2.speak(\"Beep Beep\")"
   ]
  },
  {
   "cell_type": "code",
   "execution_count": 36,
   "metadata": {},
   "outputs": [
    {
     "data": {
      "text/plain": [
       "'BB-8 says Weeeeee'"
      ]
     },
     "execution_count": 36,
     "metadata": {},
     "output_type": "execute_result"
    }
   ],
   "source": [
    "bb8.speak(\"Weeeeee\")"
   ]
  },
  {
   "cell_type": "code",
   "execution_count": 37,
   "metadata": {},
   "outputs": [
    {
     "data": {
      "text/plain": [
       "\"C-3PO says 'Don’t you call me a mindless philosopher you overweight glob of grease!'\""
      ]
     },
     "execution_count": 37,
     "metadata": {},
     "output_type": "execute_result"
    }
   ],
   "source": [
    "c3po.speak(\"'Don’t you call me a mindless philosopher you overweight glob of grease!'\")"
   ]
  },
  {
   "cell_type": "markdown",
   "metadata": {},
   "source": [
    "Passing a string to every call to `.speak()` is repetitive and inconvenient. Moreover, the string representing the sound that each `Droid` instance makes should be determined by its `.series` attribute, but here you have to manually pass the correct string to `.speak()` every time it’s called.\n",
    "\n",
    "You can simplify the experience of working with the `Droid` class by creating a child class for each series of droid. This allows you to extend the functionality that each child class inherits, including specifying a default argument for `.speak()`."
   ]
  },
  {
   "cell_type": "markdown",
   "metadata": {},
   "source": [
    "#### (2.5.2) Parent & Child Classes\n",
    "\n",
    "Let’s create a child class for each of the three droid models mentioned above: `astromech`, `protocol`, and `assassin`.\n",
    "\n",
    "For reference, here’s the full definition of the `Droid` class:"
   ]
  },
  {
   "cell_type": "code",
   "execution_count": 38,
   "metadata": {},
   "outputs": [],
   "source": [
    "class Droid:\n",
    "    species = \"droid\"\n",
    "\n",
    "    def __init__(self, name, series):\n",
    "        self.name = name\n",
    "        self.series = series\n",
    "\n",
    "    def speak(self, sound):\n",
    "        return f\"{self.name} says {sound}\"\n",
    "\n",
    "    def __str__(self):\n",
    "        return f\"{self.name} is a(n) {self.series}-series droid.\""
   ]
  },
  {
   "cell_type": "markdown",
   "metadata": {},
   "source": [
    "Remember, to create a child class, you create new class with its own name and then put the name of the parent class in parentheses. The following commands will create three new child classes of the `Droid` class:"
   ]
  },
  {
   "cell_type": "code",
   "execution_count": 39,
   "metadata": {},
   "outputs": [],
   "source": [
    "class Astromech(Droid):\n",
    "    pass\n",
    "\n",
    "class Protocol(Droid):\n",
    "    pass\n",
    "\n",
    "class Assassin(Droid):\n",
    "    pass"
   ]
  },
  {
   "cell_type": "markdown",
   "metadata": {},
   "source": [
    "With the child classes defined, you can now instantiate some droids of specific models in the interactive window:"
   ]
  },
  {
   "cell_type": "code",
   "execution_count": 40,
   "metadata": {},
   "outputs": [],
   "source": [
    "r2d2 = Astromech(\"R2-D2\", \"R2\")\n",
    "bb8 = Astromech(\"BB-8\", \"BB\")\n",
    "c3po = Protocol(\"C-3PO\", \"3PO\")\n",
    "ig88 = Assassin(\"IG-88\", \"IG\")"
   ]
  },
  {
   "cell_type": "markdown",
   "metadata": {},
   "source": [
    "Instances of child classes inherit all of the attributes and methods of the parent class:"
   ]
  },
  {
   "cell_type": "code",
   "execution_count": 41,
   "metadata": {},
   "outputs": [
    {
     "data": {
      "text/plain": [
       "'droid'"
      ]
     },
     "execution_count": 41,
     "metadata": {},
     "output_type": "execute_result"
    }
   ],
   "source": [
    "r2d2.species"
   ]
  },
  {
   "cell_type": "code",
   "execution_count": 42,
   "metadata": {},
   "outputs": [
    {
     "data": {
      "text/plain": [
       "'BB-8'"
      ]
     },
     "execution_count": 42,
     "metadata": {},
     "output_type": "execute_result"
    }
   ],
   "source": [
    "bb8.name"
   ]
  },
  {
   "cell_type": "code",
   "execution_count": 43,
   "metadata": {},
   "outputs": [
    {
     "name": "stdout",
     "output_type": "stream",
     "text": [
      "C-3PO is a(n) 3PO-series droid.\n"
     ]
    }
   ],
   "source": [
    "print(c3po)"
   ]
  },
  {
   "cell_type": "code",
   "execution_count": 44,
   "metadata": {},
   "outputs": [
    {
     "data": {
      "text/plain": [
       "\"IG-88 says 'I think, therefore I am. I destroy, therefore I endure.'\""
      ]
     },
     "execution_count": 44,
     "metadata": {},
     "output_type": "execute_result"
    }
   ],
   "source": [
    "ig88.speak(\"'I think, therefore I am. I destroy, therefore I endure.'\")"
   ]
  },
  {
   "cell_type": "markdown",
   "metadata": {},
   "source": [
    "To determine which class a given object belongs to, you can use the built-in `type()`:"
   ]
  },
  {
   "cell_type": "code",
   "execution_count": 45,
   "metadata": {},
   "outputs": [
    {
     "data": {
      "text/plain": [
       "__main__.Astromech"
      ]
     },
     "execution_count": 45,
     "metadata": {},
     "output_type": "execute_result"
    }
   ],
   "source": [
    "type(r2d2)"
   ]
  },
  {
   "cell_type": "markdown",
   "metadata": {},
   "source": [
    "What if you want to determine if R2-D2 is also an instance of the `Droid` class? You can do this with the built-in `isinstance()` function:"
   ]
  },
  {
   "cell_type": "code",
   "execution_count": 46,
   "metadata": {},
   "outputs": [
    {
     "data": {
      "text/plain": [
       "True"
      ]
     },
     "execution_count": 46,
     "metadata": {},
     "output_type": "execute_result"
    }
   ],
   "source": [
    "isinstance(r2d2, Droid)"
   ]
  },
  {
   "cell_type": "markdown",
   "metadata": {},
   "source": [
    "Notice that `isinstance()` takes two arguments, an object and a class. In the example above, `isinstance()` checks if `r2d2` is an instance of the `Droid` class and returns `True`.\n",
    "\n",
    "The `r2d2`, `bb8`, `c3po`, and `ig88` objects are all `Droid` instances, but `r2d2` is not a `Protocol` instance, and `c3po` is not a `Assassin` instance:"
   ]
  },
  {
   "cell_type": "code",
   "execution_count": 47,
   "metadata": {},
   "outputs": [
    {
     "data": {
      "text/plain": [
       "False"
      ]
     },
     "execution_count": 47,
     "metadata": {},
     "output_type": "execute_result"
    }
   ],
   "source": [
    "isinstance(r2d2, Protocol)"
   ]
  },
  {
   "cell_type": "code",
   "execution_count": 48,
   "metadata": {},
   "outputs": [
    {
     "data": {
      "text/plain": [
       "False"
      ]
     },
     "execution_count": 48,
     "metadata": {},
     "output_type": "execute_result"
    }
   ],
   "source": [
    "isinstance(c3po, Assassin)"
   ]
  },
  {
   "cell_type": "markdown",
   "metadata": {},
   "source": [
    "More generally, all objects created from a child class are instances of the parent class, although they may not be instances of other child classes.\n",
    "\n",
    "Now that you’ve created child classes for some different models of droids, let’s give each model its own sound."
   ]
  },
  {
   "cell_type": "markdown",
   "metadata": {},
   "source": [
    "#### (2.5.3) Extend the Functionality of a Parent Class\n",
    "\n",
    "Since different droid models make different sounds, you want to provide a default value for the sound argument of their respective `.speak()` methods. To do this, you need to override `.speak()` in the class definition for each model.\n",
    "\n",
    "To override a method defined on the parent class, you define a method with the same name on the child class. Here’s what that looks like for the `Astromech` class:"
   ]
  },
  {
   "cell_type": "code",
   "execution_count": 49,
   "metadata": {},
   "outputs": [],
   "source": [
    "class Astromech(Droid):\n",
    "    def speak(self, sound=\"Beep Beep\"):\n",
    "        return f\"{self.name} says {sound}\""
   ]
  },
  {
   "cell_type": "markdown",
   "metadata": {},
   "source": [
    "Now `.speak()` is defined on the `Astromech` class with the default argument for sound set to \"Beep Beep\".\n",
    "\n",
    "You can now call `.speak()` on a `Astromech` instance without passing an argument to `sound`:"
   ]
  },
  {
   "cell_type": "code",
   "execution_count": 50,
   "metadata": {},
   "outputs": [
    {
     "data": {
      "text/plain": [
       "'R2-D2 says Beep Beep'"
      ]
     },
     "execution_count": 50,
     "metadata": {},
     "output_type": "execute_result"
    }
   ],
   "source": [
    "r2d2 = Astromech(\"R2-D2\", \"R2\")\n",
    "r2d2.speak()"
   ]
  },
  {
   "cell_type": "markdown",
   "metadata": {},
   "source": [
    "Sometimes droids make different noises, so if R2-D2 gets scared, you can still call `.speak()` with a different sound:"
   ]
  },
  {
   "cell_type": "code",
   "execution_count": 54,
   "metadata": {},
   "outputs": [
    {
     "data": {
      "text/plain": [
       "'R2-D2 says Weeeeeeee!'"
      ]
     },
     "execution_count": 54,
     "metadata": {},
     "output_type": "execute_result"
    }
   ],
   "source": [
    "r2d2.speak(\"Weeeeeeee!\")"
   ]
  },
  {
   "cell_type": "markdown",
   "metadata": {},
   "source": [
    "One thing to keep in mind about class inheritance is that changes to the parent class automatically propagate to child classes. This occurs as long as the attribute or method being changed isn’t overridden in the child class.\n",
    "\n",
    "For example, in the editor window, change the string returned by `.speak()` in the `Droid` class:"
   ]
  },
  {
   "cell_type": "code",
   "execution_count": 63,
   "metadata": {},
   "outputs": [],
   "source": [
    "class Droid:\n",
    "    species = \"droid\"\n",
    "\n",
    "    def __init__(self, name, series):\n",
    "        self.name = name\n",
    "        self.series = series\n",
    "\n",
    "    def __str__(self):\n",
    "        return f\"{self.name} is a(n) {self.series}-series droid.\"\n",
    "\n",
    "    # new definition\n",
    "    def speak(self, sound):\n",
    "        return f\"{self.name} speaks: {sound}\""
   ]
  },
  {
   "cell_type": "markdown",
   "metadata": {},
   "source": [
    "Now, when you create a new `Protocol` instance named `c3po`, `c3po.speak()` returns the new string:"
   ]
  },
  {
   "cell_type": "code",
   "execution_count": 64,
   "metadata": {},
   "outputs": [
    {
     "data": {
      "text/plain": [
       "\"C-3PO speaks: 'Don’t you call me a mindless philosopher you overweight glob of grease!'\""
      ]
     },
     "execution_count": 64,
     "metadata": {},
     "output_type": "execute_result"
    }
   ],
   "source": [
    "class Protocol(Droid):\n",
    "    pass\n",
    "\n",
    "c3po = Protocol(\"C-3PO\", \"3PO\")\n",
    "c3po.speak(\"'Don’t you call me a mindless philosopher you overweight glob of grease!'\")"
   ]
  },
  {
   "cell_type": "markdown",
   "metadata": {},
   "source": [
    "However, calling `.speak()` on a `Astromech` instance won’t show the new style of output:"
   ]
  },
  {
   "cell_type": "code",
   "execution_count": 65,
   "metadata": {},
   "outputs": [
    {
     "data": {
      "text/plain": [
       "'R2-D2 says Beep Beep'"
      ]
     },
     "execution_count": 65,
     "metadata": {},
     "output_type": "execute_result"
    }
   ],
   "source": [
    "r2d2 = Astromech(\"R2-D2\", \"R2\")\n",
    "r2d2.speak()"
   ]
  },
  {
   "cell_type": "markdown",
   "metadata": {},
   "source": [
    "Sometimes it makes sense to completely override a method from a parent class. But in this instance, we don’t want the `Astromech` class to lose any changes that might be made to the formatting of the output string of `Droid.speak()`.\n",
    "\n",
    "To do this, you still need to define a `.speak()` method on the child `Astromech` class. But instead of explicitly defining the output string, you need to call the `Droid`class’s `.speak()` inside of the child class’s `.speak()` using the same arguments that you passed to `Astromech.speak()`.\n",
    "\n",
    "You can access the parent class from inside a method of a child class by using `super()`:"
   ]
  },
  {
   "cell_type": "code",
   "execution_count": 66,
   "metadata": {},
   "outputs": [],
   "source": [
    "class Astromech(Droid):\n",
    "    def speak(self, sound=\"Beep Beep\"):\n",
    "        return super().speak(sound)"
   ]
  },
  {
   "cell_type": "markdown",
   "metadata": {},
   "source": [
    "When you call `super().speak(sound)` inside `Astromech`, Python searches the parent class, `Droid`, for a `.speak()` method and calls it with the variable `sound`. Now when you call `r2d2.speak()`, you’ll see output reflecting the new formatting in the `Droid` class:"
   ]
  },
  {
   "cell_type": "code",
   "execution_count": 67,
   "metadata": {},
   "outputs": [
    {
     "data": {
      "text/plain": [
       "'R2-D2 speaks: Beep Beep'"
      ]
     },
     "execution_count": 67,
     "metadata": {},
     "output_type": "execute_result"
    }
   ],
   "source": [
    "r2d2 = Astromech(\"R2-D2\", \"R2\")\n",
    "r2d2.speak()"
   ]
  },
  {
   "cell_type": "markdown",
   "metadata": {},
   "source": [
    "**Note:** In the above examples, the class hierarchy is very straightforward. The `Astromech` class has a single parent class, `Droid`. In real-world examples, the class hierarchy can get quite complicated. `super()` does much more than just search the parent class for a method or an attribute. It traverses the entire class hierarchy for a matching method or attribute. If you aren’t careful, `super()` can have surprising results."
   ]
  },
  {
   "cell_type": "markdown",
   "metadata": {},
   "source": [
    "### (2.6) Example: Moving with R2D2"
   ]
  },
  {
   "cell_type": "markdown",
   "metadata": {},
   "source": [
    "In this example, I will show you a simple way to create a robot class that moves around a small 2D map (in this case, 3x3). It's a very basic example of the benefits of working with OOP for applications such as robotics. First we'll import the `pandas` library, which is excellent for data manipulation and analysis:"
   ]
  },
  {
   "cell_type": "code",
   "execution_count": 3,
   "metadata": {},
   "outputs": [],
   "source": [
    "import pandas as pd"
   ]
  },
  {
   "cell_type": "markdown",
   "metadata": {},
   "source": [
    "Then we define the `R2D2` class as follows:"
   ]
  },
  {
   "cell_type": "code",
   "execution_count": 4,
   "metadata": {},
   "outputs": [],
   "source": [
    "class R2D2:\n",
    "    def __init__(self, empty_block_file='Graphics/Empty_Block_ascii.txt', r2d2_file='Graphics/R2D2_ascii.txt'):\n",
    "        self.empty_block = pd.read_csv(empty_block_file, header=None)\n",
    "        self.filled_block = pd.read_csv(r2d2_file, header=None)\n",
    "        self.location = [0,0]\n",
    "        self.map = None\n",
    "\n",
    "    def __str__(self):\n",
    "        self.map = self.getMap()\n",
    "        return f\"{self.map}\"\n",
    "    \n",
    "    def getMap(self):\n",
    "        map_list = []\n",
    "        for i in range(3):\n",
    "            for k in range(10):\n",
    "                row_list = []\n",
    "                for j in range(3):\n",
    "                    if [i,j] == self.location:\n",
    "                        row_list.append(self.filled_block[0][k])\n",
    "                    else:\n",
    "                        row_list.append(self.empty_block[0][k])\n",
    "                row_string = ''.join(row_list) + '\\n'\n",
    "                map_list.append(row_string)\n",
    "        map_string = ''.join(map_list)\n",
    "        return map_string\n",
    "\n",
    "    def move(self, direction):\n",
    "        if direction == 'right':\n",
    "            if self.location[1] < 2:\n",
    "                self.location[1] += 1 \n",
    "                return\n",
    "        if direction == 'left':\n",
    "            if self.location[1] > 0:\n",
    "                self.location[1] -= 1 \n",
    "                return\n",
    "        if direction == 'up':\n",
    "            if self.location[0] > 0:\n",
    "                self.location[0] -= 1 \n",
    "                return\n",
    "        if direction == 'down':\n",
    "            if self.location[0] < 2:\n",
    "                self.location[0] += 1 \n",
    "                return\n",
    "        print('Look out for the wall!')\n",
    "        return"
   ]
  },
  {
   "cell_type": "markdown",
   "metadata": {},
   "source": [
    "Notice that this class has two dunder methods and two normal instance methods. It has 4 attributes, two of which contain the graphics data that we use to display the map and robot, one which records the location of the robot in the map, and one which contains the map itself. The robot is initialized at location `[x,y]=[0,0]` (notice that we represent it using a list and not a tuple, since we need it to be mutable), and the map is not initialized.\n",
    "\n",
    "The `getMap` method will use the current location of the robot (which is recorded by the `self.location` attribute) in order to produce the map as a single string.\n",
    "\n",
    "The `move` method allows the user to move the robot by one block either up, down, left, or right (it changes the `self.location` attribute). It will alert the user if they request an invalid direction (i.e. one that would take the robot outside the boundaries of the map).\n",
    "\n",
    "Finally, the `__str__` dunder method allows us to display the map by printing the instance itself (i.e. running `print(R2D2())`)."
   ]
  },
  {
   "cell_type": "markdown",
   "metadata": {},
   "source": [
    "Let's see how we can make R2-D2 move around the map:"
   ]
  },
  {
   "cell_type": "code",
   "execution_count": 5,
   "metadata": {
    "scrolled": false
   },
   "outputs": [
    {
     "name": "stdout",
     "output_type": "stream",
     "text": [
      " _ _ _ _ _ _ _  _ _ _ _ _ _ _  _ _ _ _ _ _ _ \n",
      "|     .---.   ||             ||             |\n",
      "|   .'_:___\". ||             ||             |\n",
      "|   |__ --==| ||             ||             |\n",
      "|   [  ]  :[| ||             ||             |\n",
      "|   |__| I=[| ||             ||             |\n",
      "|   / / ____| ||             ||             |\n",
      "|  |-/.____.' ||             ||             |\n",
      "| /___\\ /___\\ ||             ||             |\n",
      "|_ _ _ _ _ _ _||_ _ _ _ _ _ _||_ _ _ _ _ _ _|\n",
      " _ _ _ _ _ _ _  _ _ _ _ _ _ _  _ _ _ _ _ _ _ \n",
      "|             ||             ||             |\n",
      "|             ||             ||             |\n",
      "|             ||             ||             |\n",
      "|             ||             ||             |\n",
      "|             ||             ||             |\n",
      "|             ||             ||             |\n",
      "|             ||             ||             |\n",
      "|             ||             ||             |\n",
      "|_ _ _ _ _ _ _||_ _ _ _ _ _ _||_ _ _ _ _ _ _|\n",
      " _ _ _ _ _ _ _  _ _ _ _ _ _ _  _ _ _ _ _ _ _ \n",
      "|             ||             ||             |\n",
      "|             ||             ||             |\n",
      "|             ||             ||             |\n",
      "|             ||             ||             |\n",
      "|             ||             ||             |\n",
      "|             ||             ||             |\n",
      "|             ||             ||             |\n",
      "|             ||             ||             |\n",
      "|_ _ _ _ _ _ _||_ _ _ _ _ _ _||_ _ _ _ _ _ _|\n",
      "\n",
      " _ _ _ _ _ _ _  _ _ _ _ _ _ _  _ _ _ _ _ _ _ \n",
      "|             ||     .---.   ||             |\n",
      "|             ||   .'_:___\". ||             |\n",
      "|             ||   |__ --==| ||             |\n",
      "|             ||   [  ]  :[| ||             |\n",
      "|             ||   |__| I=[| ||             |\n",
      "|             ||   / / ____| ||             |\n",
      "|             ||  |-/.____.' ||             |\n",
      "|             || /___\\ /___\\ ||             |\n",
      "|_ _ _ _ _ _ _||_ _ _ _ _ _ _||_ _ _ _ _ _ _|\n",
      " _ _ _ _ _ _ _  _ _ _ _ _ _ _  _ _ _ _ _ _ _ \n",
      "|             ||             ||             |\n",
      "|             ||             ||             |\n",
      "|             ||             ||             |\n",
      "|             ||             ||             |\n",
      "|             ||             ||             |\n",
      "|             ||             ||             |\n",
      "|             ||             ||             |\n",
      "|             ||             ||             |\n",
      "|_ _ _ _ _ _ _||_ _ _ _ _ _ _||_ _ _ _ _ _ _|\n",
      " _ _ _ _ _ _ _  _ _ _ _ _ _ _  _ _ _ _ _ _ _ \n",
      "|             ||             ||             |\n",
      "|             ||             ||             |\n",
      "|             ||             ||             |\n",
      "|             ||             ||             |\n",
      "|             ||             ||             |\n",
      "|             ||             ||             |\n",
      "|             ||             ||             |\n",
      "|             ||             ||             |\n",
      "|_ _ _ _ _ _ _||_ _ _ _ _ _ _||_ _ _ _ _ _ _|\n",
      "\n",
      " _ _ _ _ _ _ _  _ _ _ _ _ _ _  _ _ _ _ _ _ _ \n",
      "|             ||             ||     .---.   |\n",
      "|             ||             ||   .'_:___\". |\n",
      "|             ||             ||   |__ --==| |\n",
      "|             ||             ||   [  ]  :[| |\n",
      "|             ||             ||   |__| I=[| |\n",
      "|             ||             ||   / / ____| |\n",
      "|             ||             ||  |-/.____.' |\n",
      "|             ||             || /___\\ /___\\ |\n",
      "|_ _ _ _ _ _ _||_ _ _ _ _ _ _||_ _ _ _ _ _ _|\n",
      " _ _ _ _ _ _ _  _ _ _ _ _ _ _  _ _ _ _ _ _ _ \n",
      "|             ||             ||             |\n",
      "|             ||             ||             |\n",
      "|             ||             ||             |\n",
      "|             ||             ||             |\n",
      "|             ||             ||             |\n",
      "|             ||             ||             |\n",
      "|             ||             ||             |\n",
      "|             ||             ||             |\n",
      "|_ _ _ _ _ _ _||_ _ _ _ _ _ _||_ _ _ _ _ _ _|\n",
      " _ _ _ _ _ _ _  _ _ _ _ _ _ _  _ _ _ _ _ _ _ \n",
      "|             ||             ||             |\n",
      "|             ||             ||             |\n",
      "|             ||             ||             |\n",
      "|             ||             ||             |\n",
      "|             ||             ||             |\n",
      "|             ||             ||             |\n",
      "|             ||             ||             |\n",
      "|             ||             ||             |\n",
      "|_ _ _ _ _ _ _||_ _ _ _ _ _ _||_ _ _ _ _ _ _|\n",
      "\n",
      " _ _ _ _ _ _ _  _ _ _ _ _ _ _  _ _ _ _ _ _ _ \n",
      "|             ||             ||             |\n",
      "|             ||             ||             |\n",
      "|             ||             ||             |\n",
      "|             ||             ||             |\n",
      "|             ||             ||             |\n",
      "|             ||             ||             |\n",
      "|             ||             ||             |\n",
      "|             ||             ||             |\n",
      "|_ _ _ _ _ _ _||_ _ _ _ _ _ _||_ _ _ _ _ _ _|\n",
      " _ _ _ _ _ _ _  _ _ _ _ _ _ _  _ _ _ _ _ _ _ \n",
      "|             ||             ||     .---.   |\n",
      "|             ||             ||   .'_:___\". |\n",
      "|             ||             ||   |__ --==| |\n",
      "|             ||             ||   [  ]  :[| |\n",
      "|             ||             ||   |__| I=[| |\n",
      "|             ||             ||   / / ____| |\n",
      "|             ||             ||  |-/.____.' |\n",
      "|             ||             || /___\\ /___\\ |\n",
      "|_ _ _ _ _ _ _||_ _ _ _ _ _ _||_ _ _ _ _ _ _|\n",
      " _ _ _ _ _ _ _  _ _ _ _ _ _ _  _ _ _ _ _ _ _ \n",
      "|             ||             ||             |\n",
      "|             ||             ||             |\n",
      "|             ||             ||             |\n",
      "|             ||             ||             |\n",
      "|             ||             ||             |\n",
      "|             ||             ||             |\n",
      "|             ||             ||             |\n",
      "|             ||             ||             |\n",
      "|_ _ _ _ _ _ _||_ _ _ _ _ _ _||_ _ _ _ _ _ _|\n",
      "\n",
      " _ _ _ _ _ _ _  _ _ _ _ _ _ _  _ _ _ _ _ _ _ \n",
      "|             ||             ||             |\n",
      "|             ||             ||             |\n",
      "|             ||             ||             |\n",
      "|             ||             ||             |\n",
      "|             ||             ||             |\n",
      "|             ||             ||             |\n",
      "|             ||             ||             |\n",
      "|             ||             ||             |\n",
      "|_ _ _ _ _ _ _||_ _ _ _ _ _ _||_ _ _ _ _ _ _|\n",
      " _ _ _ _ _ _ _  _ _ _ _ _ _ _  _ _ _ _ _ _ _ \n",
      "|             ||     .---.   ||             |\n",
      "|             ||   .'_:___\". ||             |\n",
      "|             ||   |__ --==| ||             |\n",
      "|             ||   [  ]  :[| ||             |\n",
      "|             ||   |__| I=[| ||             |\n",
      "|             ||   / / ____| ||             |\n",
      "|             ||  |-/.____.' ||             |\n",
      "|             || /___\\ /___\\ ||             |\n",
      "|_ _ _ _ _ _ _||_ _ _ _ _ _ _||_ _ _ _ _ _ _|\n",
      " _ _ _ _ _ _ _  _ _ _ _ _ _ _  _ _ _ _ _ _ _ \n",
      "|             ||             ||             |\n",
      "|             ||             ||             |\n",
      "|             ||             ||             |\n",
      "|             ||             ||             |\n",
      "|             ||             ||             |\n",
      "|             ||             ||             |\n",
      "|             ||             ||             |\n",
      "|             ||             ||             |\n",
      "|_ _ _ _ _ _ _||_ _ _ _ _ _ _||_ _ _ _ _ _ _|\n",
      "\n",
      " _ _ _ _ _ _ _  _ _ _ _ _ _ _  _ _ _ _ _ _ _ \n",
      "|             ||             ||             |\n",
      "|             ||             ||             |\n",
      "|             ||             ||             |\n",
      "|             ||             ||             |\n",
      "|             ||             ||             |\n",
      "|             ||             ||             |\n",
      "|             ||             ||             |\n",
      "|             ||             ||             |\n",
      "|_ _ _ _ _ _ _||_ _ _ _ _ _ _||_ _ _ _ _ _ _|\n",
      " _ _ _ _ _ _ _  _ _ _ _ _ _ _  _ _ _ _ _ _ _ \n",
      "|     .---.   ||             ||             |\n",
      "|   .'_:___\". ||             ||             |\n",
      "|   |__ --==| ||             ||             |\n",
      "|   [  ]  :[| ||             ||             |\n",
      "|   |__| I=[| ||             ||             |\n",
      "|   / / ____| ||             ||             |\n",
      "|  |-/.____.' ||             ||             |\n",
      "| /___\\ /___\\ ||             ||             |\n",
      "|_ _ _ _ _ _ _||_ _ _ _ _ _ _||_ _ _ _ _ _ _|\n",
      " _ _ _ _ _ _ _  _ _ _ _ _ _ _  _ _ _ _ _ _ _ \n",
      "|             ||             ||             |\n",
      "|             ||             ||             |\n",
      "|             ||             ||             |\n",
      "|             ||             ||             |\n",
      "|             ||             ||             |\n",
      "|             ||             ||             |\n",
      "|             ||             ||             |\n",
      "|             ||             ||             |\n",
      "|_ _ _ _ _ _ _||_ _ _ _ _ _ _||_ _ _ _ _ _ _|\n",
      "\n",
      " _ _ _ _ _ _ _  _ _ _ _ _ _ _  _ _ _ _ _ _ _ \n",
      "|             ||             ||             |\n",
      "|             ||             ||             |\n",
      "|             ||             ||             |\n",
      "|             ||             ||             |\n",
      "|             ||             ||             |\n",
      "|             ||             ||             |\n",
      "|             ||             ||             |\n",
      "|             ||             ||             |\n",
      "|_ _ _ _ _ _ _||_ _ _ _ _ _ _||_ _ _ _ _ _ _|\n",
      " _ _ _ _ _ _ _  _ _ _ _ _ _ _  _ _ _ _ _ _ _ \n",
      "|             ||             ||             |\n",
      "|             ||             ||             |\n",
      "|             ||             ||             |\n",
      "|             ||             ||             |\n",
      "|             ||             ||             |\n",
      "|             ||             ||             |\n",
      "|             ||             ||             |\n",
      "|             ||             ||             |\n",
      "|_ _ _ _ _ _ _||_ _ _ _ _ _ _||_ _ _ _ _ _ _|\n",
      " _ _ _ _ _ _ _  _ _ _ _ _ _ _  _ _ _ _ _ _ _ \n",
      "|     .---.   ||             ||             |\n",
      "|   .'_:___\". ||             ||             |\n",
      "|   |__ --==| ||             ||             |\n",
      "|   [  ]  :[| ||             ||             |\n",
      "|   |__| I=[| ||             ||             |\n",
      "|   / / ____| ||             ||             |\n",
      "|  |-/.____.' ||             ||             |\n",
      "| /___\\ /___\\ ||             ||             |\n",
      "|_ _ _ _ _ _ _||_ _ _ _ _ _ _||_ _ _ _ _ _ _|\n",
      "\n",
      " _ _ _ _ _ _ _  _ _ _ _ _ _ _  _ _ _ _ _ _ _ \n",
      "|             ||             ||             |\n",
      "|             ||             ||             |\n",
      "|             ||             ||             |\n",
      "|             ||             ||             |\n",
      "|             ||             ||             |\n",
      "|             ||             ||             |\n",
      "|             ||             ||             |\n",
      "|             ||             ||             |\n",
      "|_ _ _ _ _ _ _||_ _ _ _ _ _ _||_ _ _ _ _ _ _|\n",
      " _ _ _ _ _ _ _  _ _ _ _ _ _ _  _ _ _ _ _ _ _ \n",
      "|             ||             ||             |\n",
      "|             ||             ||             |\n",
      "|             ||             ||             |\n",
      "|             ||             ||             |\n",
      "|             ||             ||             |\n",
      "|             ||             ||             |\n",
      "|             ||             ||             |\n",
      "|             ||             ||             |\n",
      "|_ _ _ _ _ _ _||_ _ _ _ _ _ _||_ _ _ _ _ _ _|\n",
      " _ _ _ _ _ _ _  _ _ _ _ _ _ _  _ _ _ _ _ _ _ \n",
      "|             ||     .---.   ||             |\n",
      "|             ||   .'_:___\". ||             |\n",
      "|             ||   |__ --==| ||             |\n",
      "|             ||   [  ]  :[| ||             |\n",
      "|             ||   |__| I=[| ||             |\n",
      "|             ||   / / ____| ||             |\n",
      "|             ||  |-/.____.' ||             |\n",
      "|             || /___\\ /___\\ ||             |\n",
      "|_ _ _ _ _ _ _||_ _ _ _ _ _ _||_ _ _ _ _ _ _|\n",
      "\n",
      " _ _ _ _ _ _ _  _ _ _ _ _ _ _  _ _ _ _ _ _ _ \n",
      "|             ||             ||             |\n",
      "|             ||             ||             |\n",
      "|             ||             ||             |\n",
      "|             ||             ||             |\n",
      "|             ||             ||             |\n",
      "|             ||             ||             |\n",
      "|             ||             ||             |\n",
      "|             ||             ||             |\n",
      "|_ _ _ _ _ _ _||_ _ _ _ _ _ _||_ _ _ _ _ _ _|\n",
      " _ _ _ _ _ _ _  _ _ _ _ _ _ _  _ _ _ _ _ _ _ \n",
      "|             ||             ||             |\n",
      "|             ||             ||             |\n",
      "|             ||             ||             |\n",
      "|             ||             ||             |\n",
      "|             ||             ||             |\n",
      "|             ||             ||             |\n",
      "|             ||             ||             |\n",
      "|             ||             ||             |\n",
      "|_ _ _ _ _ _ _||_ _ _ _ _ _ _||_ _ _ _ _ _ _|\n",
      " _ _ _ _ _ _ _  _ _ _ _ _ _ _  _ _ _ _ _ _ _ \n",
      "|             ||             ||     .---.   |\n",
      "|             ||             ||   .'_:___\". |\n",
      "|             ||             ||   |__ --==| |\n",
      "|             ||             ||   [  ]  :[| |\n",
      "|             ||             ||   |__| I=[| |\n",
      "|             ||             ||   / / ____| |\n",
      "|             ||             ||  |-/.____.' |\n",
      "|             ||             || /___\\ /___\\ |\n",
      "|_ _ _ _ _ _ _||_ _ _ _ _ _ _||_ _ _ _ _ _ _|\n",
      "\n"
     ]
    }
   ],
   "source": [
    "r2d2 = R2D2()\n",
    "print(r2d2)\n",
    "r2d2.move('right')\n",
    "print(r2d2)\n",
    "r2d2.move('right')\n",
    "print(r2d2)\n",
    "r2d2.move('down')\n",
    "print(r2d2)\n",
    "r2d2.move('left')\n",
    "print(r2d2)\n",
    "r2d2.move('left')\n",
    "print(r2d2)\n",
    "r2d2.move('down')\n",
    "print(r2d2)\n",
    "r2d2.move('right')\n",
    "print(r2d2)\n",
    "r2d2.move('right')\n",
    "print(r2d2)\n"
   ]
  },
  {
   "cell_type": "markdown",
   "metadata": {},
   "source": [
    "# (3) Conclusion\n",
    "In this tutorial, you learned about object-oriented programming (OOP) in Python. Most modern programming languages, such as Java, C#, and C++, follow OOP principles, so the knowledge you gained here will be applicable no matter where your programming career takes you.\n",
    "\n",
    "In this tutorial, you learned how to:\n",
    "\n",
    "* Define a class, which is a sort of blueprint for an object\n",
    "* Instantiate an object from a class\n",
    "* Use attributes and methods to define the properties and behaviors of an object\n",
    "* Use inheritance to create child classes from a parent class\n",
    "* Reference a method on a parent class using `super()`\n",
    "* Check if an object inherits from another class using `isinstance()`"
   ]
  },
  {
   "cell_type": "markdown",
   "metadata": {},
   "source": [
    "#### ***Credit:** Many parts of this tutorial were adapted from [Real Python](https://realpython.com/python3-object-oriented-programming/)'s fantastic article on object-orinted programming. The tutorial was written by Yotam Granov.*"
   ]
  },
  {
   "cell_type": "markdown",
   "metadata": {},
   "source": [
    "### **References**\n",
    "[1] About Python: https://www.python.org/about/\n",
    "\n",
    "[2] Origin of Guido van Rossum's BDFL Title: https://www.artima.com/weblogs/viewpost.jsp?thread=235725\n",
    "\n",
    "[3] Real Python's Article on OOP: https://realpython.com/python3-object-oriented-programming/"
   ]
  }
 ],
 "metadata": {
  "kernelspec": {
   "display_name": "Python 3",
   "language": "python",
   "name": "python3"
  },
  "language_info": {
   "codemirror_mode": {
    "name": "ipython",
    "version": 3
   },
   "file_extension": ".py",
   "mimetype": "text/x-python",
   "name": "python",
   "nbconvert_exporter": "python",
   "pygments_lexer": "ipython3",
   "version": "3.8.8"
  },
  "vscode": {
   "interpreter": {
    "hash": "ad2bdc8ecc057115af97d19610ffacc2b4e99fae6737bb82f5d7fb13d2f2c186"
   }
  }
 },
 "nbformat": 4,
 "nbformat_minor": 4
}
