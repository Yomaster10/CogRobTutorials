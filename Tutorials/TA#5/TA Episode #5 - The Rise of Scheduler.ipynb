{
 "cells": [
  {
   "cell_type": "markdown",
   "metadata": {},
   "source": [
    "<p align=\"center\">\n",
    "  <img src=\"Graphics/Episode V.png\" />\n",
    "</p>"
   ]
  },
  {
   "cell_type": "markdown",
   "metadata": {},
   "source": [
    "## (0) Introduction to Temporal & Numeric Planning"
   ]
  },
  {
   "cell_type": "markdown",
   "metadata": {},
   "source": [
    "### (0.1) Learning Outcomes\n",
    "\n",
    "In this tutorial, we will cover:\n",
    "* The basics of temporal planning and numeric planning\n",
    "* How can we solve temporal and numeric planning problems in Python using the Unified Planning Framework (and PDDL 2.1)?\n",
    "\n",
    "<p align=\"center\">\n",
    "  <img src=\"Graphics/Sched.png\" width=700/>\n",
    "</p>"
   ]
  },
  {
   "cell_type": "markdown",
   "metadata": {},
   "source": [
    "## (1) PDDL 2.1: Adding Support for Temporal Planning & Numeric Planning\n",
    "\n",
    "Up until now, we've been working with classical planning problems where all actions are assumed to be *instantaneous*, and such problems were sufficiently modeled by PDDL 1.2 (released in 1998). This is rarely ever a good model of the real world though, since tasks can take time to complete and tasks can even be concurrent (occuring at the same moment in time). This led to the development of a big update to PDDL in 2003 known as [PDDL 2.1](https://arxiv.org/pdf/1106.4561.pdf), which uses the same basic syntax of PDDL 1.2 but with added support for *durative actions* (actions which take time to complete) as well as *numeric fluents* (variables with integer or real number values which can change over time).\n",
    "\n",
    "From now on, we will be able to use PDDL 2.1 to model the following types of planning problems:\n",
    "* **Temporal Planning:** Addresses the problem of generating a sequence of actions that transform the environment from some initial state to a desired goal state, while taking into account time constraints and the durations of actions\n",
    "* **Numeric Planning:** Addresses problems where numbers (integer/real) must be used in the planning model, i.e. actions have numeric preconditions and effects, and goals can be numeric\n",
    "\n",
    "### (1.1) PDDL 2.1 Syntax\n",
    "\n",
    "#### (1.1.1) Numeric Fluents\n",
    "\n",
    "Let's take a look at the new features of PDDL 2.1 which allow us to represent and treat temporal and numeric planning problems. First, we'll have to add some new requirements to our domain file, called `:durative-actions` and `:fluents`. We can then define our types as usual, and we'll see a new feature when we begin to define our numeric fluents, which we do in a group called `(:functions)`. An example of numeric fluent definition is shown below: \n",
    "```\n",
    "(:functions\n",
    "        (battery-amount ?r - rover)\n",
    "        (sample-amount ?r - rover)\n",
    "        (recharge-rate ?r - rover)\n",
    "        (battery-capacity)\n",
    "        (sample-capacity)\n",
    "        (distance-travelled)\n",
    ")\n",
    "```\n",
    "All of these fluents store some numeric value (can be integer or real), and can even be tied to some object (for example, the battery amount of a rover, which is specific to that rover). These fluents can be altered in both regular (instantaneous) actions and durative actions. After we define the numeric fluents, we can define our predicates (which are boolean) as usual.\n",
    "\n",
    "How can we change the values of numeric fluents? PDDL 2.1 offers support for the following numeric operators:\n",
    "* **Addition:** Adds some value to a fluent, i.e. `(+ (sample-capacity) (battery-capacity))`\n",
    "* **Subtraction:** Substracts some value from a fluent, i.e. `(- (sample-capacity) (battery-capacity))`\n",
    "* **Multiplication:** Multiplies a fluent by some value, i.e. `(* (sample-capacity) (battery-capacity))`\n",
    "* **Division:** Divides a fluent by some value, i.e. `(/ (sample-capacity) (battery-capacity))`\n",
    "\n",
    "We can describe the same numeric effects using keywords:\n",
    "* **Increase:** Increases a fluent by some value, i.e. `(increase (battery-level ?r) 10)`; it is possible to use another numeric variable as the increase value (e.g. `(increase (battery-level ?r) (charge-available - ?solarpanel))`)\n",
    "* **Decrease:** Decreases a fluent by some value, i.e. `(decrease (battery-level ?r) 10)`, or `(decrease (battery-level ?r) (power-needed-for-work - ?task))`\n",
    "* **Scale Up:** Multiplies the value of the numeric variable by the given scale factor, i.e. `(scale-up (battery-level ?r) 2)`, or `(scale-up (battery-level ?r) (charge-rate ?r))`\n",
    "* **Scale Down:** Divides the value of the numeric variable by the given scale factor, i.e. `(scale-down (battery-level ?r) 2)`, or `(scale-down (battery-level ?r) (consumption-rate ?r))`\n",
    "* **Assign:** Assigns a value to a fluent, i.e. `(assign (battery-level ?r) 10)`, or `(assign (battery-level ?r) (max-charge ?r))` (this doesn't have a counterpart above)\n",
    "\n",
    "We can also use equalities and inequalities to define action conditions and effects, initial values, and goals involving numeric fluents. For example, if we look ahead to our problem file, we will define the initial values of the numeric fluents in the `(:init)` group along with the predicates, using the following kind of notation:\n",
    "```\n",
    "    (:init\n",
    "        (= (battery-amount r1) 100)\n",
    "        (= (recharge-rate r1) 2.5)\n",
    "        ...\n",
    "    )\n",
    "```\n",
    "We just use an equals sign (=) to assign the values of the fluents. The goal state for numeric fluents can be defined similarly.\n",
    "\n",
    "#### (1.1.2) Durative Actions\n",
    "\n",
    "Now back to the domain file, once we've defined our fluents and predicates we can begin to define our durative actions, which have a duration that can either be fixed (and equal to some number) or bounded in some interval (to do that, we'd need to add the requirement `:duration-inequalities`). To define a durative action, we start by declaring its name and parameters as follows:\n",
    "```\n",
    "(:durative-action move\n",
    "        :parameters (?r - rover ?from ?to - location)\n",
    "```\n",
    "Nothing unusual so far (except for declaring the action using the `:durative-action` command). Next, we add a new feature which records the duration of the action:\n",
    "```\n",
    "        :duration (= ?duration 5)\n",
    "```\n",
    "Here, the duration of the action is fixed and it takes 5 units of time to complete. We could also use an inequality symbol here in order to indicate that the duration is not fixed, only bounded by some value(s). Next, we have to state the conditions (*not* preconditions like before) that must hold at the beginning, middle, and/or end of the action:\n",
    "```\n",
    "        :condition (and (at start (at ?rover ?from))\n",
    "\t                (over all (can-move ?from ?to))\n",
    "\t                (at start (> (battery-amount ?rover) 8)) \n",
    "                    )\n",
    "```\n",
    "Why don't we call it a precondition? Well, a condition for a durative action can be specified at *any* given moment during the action's duration, not just at the beginning (i.e. a condition must hold at the end of the action isn't technically a precondition). Looking at our condition definition, we notice the following new features:\n",
    "* `at start`: indicates that this condition must hold at the time when the action begins\n",
    "* `over all`: indicates that this condition must hold for the whole duration of the action\n",
    "* `at start (> ({fluent}) {value}))`: the inequality here tells us that the fluent in question must be greater than the specified value at the start of the action, in order to actually do the action\n",
    "\n",
    "Finally, we can describe the effects of our durative action (which will also be temporal). Here's an example:\n",
    "```\n",
    "        :effect (and (at end (at ?rover ?to)) \n",
    "\t             (at end (been-at ?rover ?to))\n",
    "\t             (at start (not (at ?rover ?from))) \n",
    "\t             (at start (decrease (battery-amount ?rover) 8))\n",
    "                     (at end (increase (distance-travelled) 5))\n",
    "                )\n",
    "```\n",
    "Some more new features to notice:\n",
    "* `at end`: indicates that this effect will occur once the action ends\n",
    "* `at start`: indicates that this effect will occur immediately after the action begins\n",
    "* `at start (decrease ({fluent}) {value}))`: indicates that the numeric fluent in question will decrease by the specified value immediately after the action begins\n",
    "* `at end (increase ({fluent}) {value}))`: indicates that the numeric fluent in question will increase by the specified value once the action ends\n",
    "\n",
    "#### (1.1.3) Continuous Effects\n",
    "\n",
    "Another new feature in temporal/numeric planning problems is something called a *continuous effect*, which is another way of defining effects on numeric variables where their values can now change throughout the application of a durative action. Put simply, it allows us to change variables continously over the duration of the action. For example, we can define such effects as follows:\n",
    "```\n",
    "        (increase (fuel ?tank) #t)\n",
    "        (decrease (battery ?battery) (* 5 #t))\n",
    "```\n",
    "Here, the fuel level in the tank increases directly with time (i.e. for every unit of time that passes during the action, the value of `fuel` is increased by 1). Similarly, the battery level here will decrease proportionally with time (i.e. for every unit of time that passes during the action, the value of `battery` is decreased by 5).\n",
    "\n",
    "We can see these kind of effects in real world fuel and battery problems. As we drive for longer periods of time, we consume more fuel, and this can be modelled using a continous effect. Furthermore, continuous effects allow planning models to consider the application of an action prior to the termination of a durative action.\n",
    "\n",
    "#### (1.1.4) Metrics\n",
    "\n",
    "Now we've finished defining our domain file (we can of course add other actions which are instantaneous alongside the durative ones), and we will define our problem file almost identically to how we usually might do it (small changes to the initial and goal state definitions). One last new feature, though, will be something called a *metric*. When dealing with numeric planning problems, we might want to ask our planner to choose the solution which maximizes or minimizes certain values (fluents). The planner will then try to optimize the search according to the *metric* we requested. We can declare metrics as follows:\n",
    "```\n",
    "(:metric minimize (<numeric_operation>)) ; to minimize the specified fluent\n",
    "(:metric maximize (<numeric_operation>)) ; to maximize the specified fluent\n",
    "```\n",
    "Note that metrics do *not* replace goals, they are just used to declare what optimality means for a solution to our problem.\n",
    "\n",
    "### (1.2) Integrating PDDL 2.1 with Python using the Unified Planning Framework (UPF)\n",
    "\n",
    "For those of you who would like to learn more about the new features of PDDL 2.1, feel free to check out the [following page](https://planning.wiki/ref/pddl21) for more info. The [original paper](https://arxiv.org/pdf/1106.4561.pdf) for PDDL 2.1, written by Maria Fox and Derek Long, is also a great resource.\n",
    "\n",
    "Now we'd like to actually apply PDDL 2.1 to real planning problems, and to do so we will once again make our lives easier by using the Unified Planning Framework (UPF). Luckily for us, it supports PDDL 2.1 and temporal/numeric planning in general. Let's see how we can use the UPF to represent and solve such problems with a few examples."
   ]
  },
  {
   "cell_type": "markdown",
   "metadata": {},
   "source": [
    "## (2) Ex: Match Cellar\n",
    "\n",
    "<p align=\"center\">\n",
    "  <img src=\"Graphics/Match.jpg\" width=1000/>\n",
    "</p>\n",
    "\n",
    "### (2.1) Problem Statement\n",
    "\n",
    "The match cellar problem is a classic example (and essentially the \"Hello World\") for temporal planning problems, and you will have seen it already in [this week's lecture](https://docs.google.com/presentation/d/1N5gc__kmY3TE9cHqFg2zM8yT1zxehTc710nCRk6otxM/edit#slide=id.g221c7f3818_1_0). In this problem, we need to change some fuses in our fusebox, located in our cellar which has no natural or electric lighting. We have some matches, which can provide light for 15 seconds once we strike them. It takes us 10 seconds to change a fuse, and we must have continuous, uninterrupted light in order to successfully change it. Given that we only have two hands (one which must hold the match), we can only fix one fuse at a time. How can we go about fixing 3 fuses when we have 3 matches?\n",
    "\n",
    "### (2.2) Solution\n",
    "\n",
    "As you might expect, we'll begin by importing the necessary libraries:"
   ]
  },
  {
   "cell_type": "code",
   "execution_count": 1,
   "metadata": {},
   "outputs": [],
   "source": [
    "import unified_planning as up\n",
    "from unified_planning.shortcuts import *\n",
    "from unified_planning.io import PDDLWriter"
   ]
  },
  {
   "cell_type": "markdown",
   "metadata": {},
   "source": [
    "Next, we can begin defining our domain by creating our custom types - in this case we only need types for the matches and for the fuses:"
   ]
  },
  {
   "cell_type": "code",
   "execution_count": 2,
   "metadata": {},
   "outputs": [],
   "source": [
    "Match = UserType('Match')\n",
    "Fuse = UserType('Fuse')"
   ]
  },
  {
   "cell_type": "markdown",
   "metadata": {},
   "source": [
    "Now we will define our predicates, which will all be boolean (we don't need any numeric fluents for this problem):"
   ]
  },
  {
   "cell_type": "code",
   "execution_count": 3,
   "metadata": {},
   "outputs": [
    {
     "name": "stdout",
     "output_type": "stream",
     "text": [
      "bool\n"
     ]
    }
   ],
   "source": [
    "handfree = Fluent('handfree') # defaults to BoolType()\n",
    "light = Fluent('light') # defaults to BoolType()\n",
    "match_used = Fluent('match_used', BoolType(), m=Match)\n",
    "fuse_mended = Fluent('fuse_mended', BoolType(), f=Fuse)\n",
    "\n",
    "print(light.type)"
   ]
  },
  {
   "cell_type": "markdown",
   "metadata": {},
   "source": [
    "Notice that if we don't specify the value type for each fluent, the default is just boolean. Next up, we need to define our actions, which in this case are all durative. We can define durative actions (which are stored in a `DurativeAction` object) as follows:"
   ]
  },
  {
   "cell_type": "code",
   "execution_count": 4,
   "metadata": {},
   "outputs": [],
   "source": [
    "light_match = DurativeAction('light_match', m=Match)\n",
    "m = light_match.parameter('m')\n",
    "light_match.set_fixed_duration(15) # This declares the total duration of the action\n",
    "light_match.add_condition(StartTiming(), Not(match_used(m))) # This predicate must be true at the start of the action\n",
    "light_match.add_effect(StartTiming(), match_used(m), True) # This predicate will no longer be true after the start of the action\n",
    "light_match.add_effect(StartTiming(), light, True) # This predicate will no longer be true after the start of the action\n",
    "light_match.add_effect(EndTiming(), light, False) # This predicate will become true at the end of the action\n",
    "\n",
    "fix_fuse = DurativeAction('fix_fuse', f=Fuse)\n",
    "f = fix_fuse.parameter('f')\n",
    "fix_fuse.set_fixed_duration(10)\n",
    "fix_fuse.add_condition(StartTiming(), handfree)\n",
    "fix_fuse.add_condition(ClosedTimeInterval(StartTiming(), EndTiming()), light) # This predicate must be true over the course of the whole action\n",
    "fix_fuse.add_effect(StartTiming(), handfree, False)\n",
    "fix_fuse.add_effect(EndTiming(), fuse_mended(f), True)\n",
    "fix_fuse.add_effect(EndTiming(), handfree, True)"
   ]
  },
  {
   "cell_type": "markdown",
   "metadata": {},
   "source": [
    "Here we use the `.set_fixed_duration` method to assign the duration (in arbitrary units of time) of the action, and we use the `.add_condition` method to define the temporal conditions (not preconditions!) required to conduct the action. For the `light_match` action (which lights the match), we require that the match object will not have been already lit at the start of the action, and we state that this action will cause the match to have been used immediately after the start of the action, and will provide light once the action begins and no light once the action ends.\n",
    "\n",
    "For the `fix_fuse` action (which fixes the fuse), we require that our hand will be free at the start of the action and that there will be light from the start of the action until its end. We also state that this action will cause our hand to no longer be free from the start of the action, the fuse to be fixed once the action ends, and our hand to be free at the action's end.\n",
    "\n",
    "That's it for our domain definition, and now we can begin building the problem. First, we'll instantiate a new `Problem` object:"
   ]
  },
  {
   "cell_type": "code",
   "execution_count": 5,
   "metadata": {},
   "outputs": [],
   "source": [
    "problem_match = Problem('MatchCellar')"
   ]
  },
  {
   "cell_type": "markdown",
   "metadata": {},
   "source": [
    "Next we'll instantiate 3 fuses and 3 matches and add them to the problem, along with the predicates and actions:"
   ]
  },
  {
   "cell_type": "code",
   "execution_count": 6,
   "metadata": {},
   "outputs": [],
   "source": [
    "fuses = [Object(f'F{i}', Fuse) for i in range(1,4)]\n",
    "matches = [Object(f'M{i}', Match) for i in range(1,4)]\n",
    "problem_match.add_objects(fuses)\n",
    "problem_match.add_objects(matches)\n",
    "\n",
    "problem_match.add_fluent(handfree)\n",
    "problem_match.add_fluent(light)\n",
    "problem_match.add_fluent(match_used, default_initial_value=False)\n",
    "problem_match.add_fluent(fuse_mended , default_initial_value=False)\n",
    "\n",
    "problem_match.add_action(light_match)\n",
    "problem_match.add_action(fix_fuse)"
   ]
  },
  {
   "cell_type": "markdown",
   "metadata": {},
   "source": [
    "Then we can define the initial state (which we really could've done when we added the fluents to the problem, but will be done explicitly here for clarity):"
   ]
  },
  {
   "cell_type": "code",
   "execution_count": 7,
   "metadata": {},
   "outputs": [
    {
     "name": "stdout",
     "output_type": "stream",
     "text": [
      "{light: false, handfree: true, match_used(M1): false, match_used(M2): false, match_used(M3): false, fuse_mended(F1): false, fuse_mended(F2): false, fuse_mended(F3): false}\n"
     ]
    }
   ],
   "source": [
    "problem_match.set_initial_value(light, False)\n",
    "problem_match.set_initial_value(handfree, True)\n",
    "\n",
    "print(problem_match.initial_values)"
   ]
  },
  {
   "cell_type": "markdown",
   "metadata": {},
   "source": [
    "Finally, we can specify the goals for this problem (i.e. that all of the fuses will be fixed):"
   ]
  },
  {
   "cell_type": "code",
   "execution_count": 8,
   "metadata": {},
   "outputs": [],
   "source": [
    "for f in fuses:\n",
    "    problem_match.add_goal(fuse_mended(f))"
   ]
  },
  {
   "cell_type": "markdown",
   "metadata": {},
   "source": [
    "Our problem is now fully defined, and we can check its type and its contents using the following commands:"
   ]
  },
  {
   "cell_type": "code",
   "execution_count": 9,
   "metadata": {},
   "outputs": [
    {
     "name": "stdout",
     "output_type": "stream",
     "text": [
      "PROBLEM_CLASS: ['ACTION_BASED']\n",
      "TIME: ['CONTINUOUS_TIME']\n",
      "CONDITIONS_KIND: ['NEGATIVE_CONDITIONS']\n",
      "TYPING: ['FLAT_TYPING']\n",
      "\n",
      "problem name = MatchCellar\n",
      "\n",
      "types = [Fuse, Match]\n",
      "\n",
      "fluents = [\n",
      "  bool handfree\n",
      "  bool light\n",
      "  bool match_used[m=Match]\n",
      "  bool fuse_mended[f=Fuse]\n",
      "]\n",
      "\n",
      "actions = [\n",
      "  durative action light_match(Match m) {\n",
      "    duration = [15, 15]\n",
      "    conditions = [\n",
      "      [start]:\n",
      "        (not match_used(m))\n",
      "    ]\n",
      "    effects = [\n",
      "      start:\n",
      "        match_used(m) := true:\n",
      "        light := true:\n",
      "      end:\n",
      "        light := false:\n",
      "    ]\n",
      "    simulated effects = [\n",
      "    ]\n",
      "  }\n",
      "  durative action fix_fuse(Fuse f) {\n",
      "    duration = [10, 10]\n",
      "    conditions = [\n",
      "      [start]:\n",
      "        handfree\n",
      "      [start, end]:\n",
      "        light\n",
      "    ]\n",
      "    effects = [\n",
      "      start:\n",
      "        handfree := false:\n",
      "      end:\n",
      "        fuse_mended(f) := true:\n",
      "        handfree := true:\n",
      "    ]\n",
      "    simulated effects = [\n",
      "    ]\n",
      "  }\n",
      "]\n",
      "\n",
      "objects = [\n",
      "  Fuse: [F1, F2, F3]\n",
      "  Match: [M1, M2, M3]\n",
      "]\n",
      "\n",
      "initial fluents default = [\n",
      "  bool match_used[m=Match] := false\n",
      "  bool fuse_mended[f=Fuse] := false\n",
      "]\n",
      "\n",
      "initial values = [\n",
      "  light := false\n",
      "  handfree := true\n",
      "  match_used(M1) := false\n",
      "  match_used(M2) := false\n",
      "  match_used(M3) := false\n",
      "  fuse_mended(F1) := false\n",
      "  fuse_mended(F2) := false\n",
      "  fuse_mended(F3) := false\n",
      "]\n",
      "\n",
      "goals = [\n",
      "  fuse_mended(F1)\n",
      "  fuse_mended(F2)\n",
      "  fuse_mended(F3)\n",
      "]\n",
      "\n",
      "\n"
     ]
    }
   ],
   "source": [
    "print(problem_match.kind)\n",
    "print()\n",
    "print(problem_match)"
   ]
  },
  {
   "cell_type": "markdown",
   "metadata": {},
   "source": [
    "Notice that the only new problem feature that we haven't seen yet is called `CONTINUOUS_TIME` - it is one of the features of temporal planning problems in the UPF (but not the only one - we'll see more later), and it corresponds to the `:durative-actions` requirement for our domain. Let's write this problem to the appropriate PDDL files (this time, they're PDDL 2.1!), using the commands we've seen before:"
   ]
  },
  {
   "cell_type": "code",
   "execution_count": 10,
   "metadata": {},
   "outputs": [],
   "source": [
    "w = PDDLWriter(problem_match)\n",
    "w.write_domain('MatchCellar/domain_match_upf.pddl')\n",
    "w.write_problem('MatchCellar/problem_match_upf.pddl')"
   ]
  },
  {
   "cell_type": "markdown",
   "metadata": {},
   "source": [
    "Finally, we can actually solve our temporal planning problem with ease using the UPF. We need to install a planner called [Tamer](https://tamer.fbk.eu) in order to solve these kinds of problems, and we can do so by running the following command in our terminal (don't forget to activate the `cogrob` virtual environemnt first, if you're using it):\n",
    "\n",
    "`pip install up-tamer==0.2.0.23.dev1`"
   ]
  },
  {
   "cell_type": "code",
   "execution_count": 11,
   "metadata": {},
   "outputs": [
    {
     "name": "stdout",
     "output_type": "stream",
     "text": [
      "\u001b[96m\u001b[1mNOTE: To disable printing of planning engine credits, add this line to your code: `up.shortcuts.get_env().credits_stream = None`\n",
      "\u001b[0m\u001b[96m  *** Credits ***\n",
      "\u001b[0m\u001b[96m  * In operation mode `OneshotPlanner` at line 412 of `c:\\Users\\yotam\\.conda\\envs\\cogrob\\lib\\site-packages\\unified_planning\\shortcuts.py`, \u001b[0m\u001b[96myou are using the following planning engine:\n",
      "\u001b[0m\u001b[96m  * Engine name: Tamer\n",
      "  * Developers:  FBK Tamer Development Team\n",
      "\u001b[0m\u001b[96m  * Description: \u001b[0m\u001b[96mTamer offers the capability to generate a plan for classical, numerical and temporal problems.\n",
      "  *              For those kind of problems tamer also offers the possibility of validating a submitted plan.\u001b[0m\u001b[96m\n",
      "\u001b[0m\u001b[96m\n",
      "\u001b[0mTamer returned:\n",
      "0.0: light_match(M2) [15.0]\n",
      "0.01: fix_fuse(F2) [10.0]\n",
      "15.01: light_match(M1) [15.0]\n",
      "15.02: fix_fuse(F3) [10.0]\n",
      "30.02: light_match(M3) [15.0]\n",
      "30.03: fix_fuse(F1) [10.0]\n"
     ]
    }
   ],
   "source": [
    "with OneshotPlanner(problem_kind=problem_match.kind) as planner:\n",
    "    result = planner.solve(problem_match)\n",
    "    plan = result.plan\n",
    "    if plan is not None:\n",
    "        print(\"%s returned:\" % planner.name)\n",
    "        for start, action, duration in plan.timed_actions:\n",
    "            print(\"%s: %s [%s]\" % (float(start), action, float(duration)))\n",
    "    else:\n",
    "        print(\"No plan found.\")"
   ]
  },
  {
   "cell_type": "markdown",
   "metadata": {},
   "source": [
    "The plan returned by Tamer tells us to first light a match at $t=0.00$, and then immediately start fixing the first fuse at $t=0.01$ (remember that the light is turned on only immediately *after* the `light_match` action begins - thus there's a 0.01 unit delay until we start fixing the fuse). We'll finish fixing the first fuse at $t=10.01$, but we don't have time to start fixing the second fuse since the first match will burn out at $t=15.00$ (and we must have uninterrupted light throughout the entire fuse-fixing action in order to actually do it). Thus, we will have to wait until $t=15.01$ to light our second match, which then allows us to start fixing the second fuse at $t=15.02$. This fuse will finish being fixed at $t=25.02$, but we will have to wait until the second match burns out at $t=30.01$ in order to light the third and final match at $t=30.02$. Once that third match is lit, we can start fixing the final fuse (at $t=30.03$), and we will be done fixing all of the fuses at $t=40.03$ (and the last match will burn out at $t=45.02$).\n",
    "\n",
    "In total, it takes us 40.03 units of time in order to complete all of our goals and fix every fuse. Notice that here we had actions which were *concurrent* - they occur simultaneously in the plan, which would be impossible to represent using classical planning.\n",
    "\n",
    "Finally, I've added the code for this problem as a `.py` file under the folder `MatchCellar`, and you can run it directly from there using the following command:\n"
   ]
  },
  {
   "cell_type": "code",
   "execution_count": 12,
   "metadata": {},
   "outputs": [
    {
     "name": "stdout",
     "output_type": "stream",
     "text": [
      "Tamer returned:\n",
      "0.0: light_match(M2) [15.0]\n",
      "0.01: fix_fuse(F2) [10.0]\n",
      "15.01: light_match(M1) [15.0]\n",
      "15.02: fix_fuse(F3) [10.0]\n",
      "30.02: light_match(M3) [15.0]\n",
      "30.03: fix_fuse(F1) [10.0]\n"
     ]
    }
   ],
   "source": [
    "from MatchCellar import match_upf\n",
    "match_upf.main()"
   ]
  },
  {
   "cell_type": "markdown",
   "metadata": {},
   "source": [
    "## (3) Ex: Satellite Activity Planning (Numeric)\n",
    "\n",
    "Next let's try our hand at a problem that's a bit more complicated, but we'll limit it first to be a numeric planning problem (later we will turn it into a temporal planning problem). It is based on the Satellite domain from the AIPS 2002 planning competition.\n",
    "\n",
    "### (3.1) Problem Statement\n",
    "\n",
    "The Israeli Space Agency (ISA) has recently launched a new satellite program for which they will send a fleet of satellites to geosynchronous orbit (GEO) in order to conduct measurements of various objects in our galaxy. They would like to observe a set of stars and celestial phenomena using measurement devices from the following set: imagers (cameras), thermographs, and spectrographs. At first, they send one satellite with an imager to GEO in order to observe a certain star and a certain phenomenon in our galaxy.\n",
    "\n",
    "In order to record data (i.e. take pictures), the satellite must first turn on the imaging instrument, and then it must calibrate it. In order to calibrate it, the satellite must be pointing directly towards the ground control station (GCS), which is located on Earth. If the satellite is not already pointing at the GCS, it must use fuel in order to turn towards it - the satellite begins its mission with a set amount of fuel (in this case 240 grams), and each time it turns to point at a different object it spends a certain amount of fuel.\n",
    "\n",
    "Once the instrument is calibrated, the satellite can start using it to record data. To take images of a body, the satellite must be pointing at that body and it must have enough data storage left in order to keep the incoming data from the measurement process. The satellite initially starts with 500 GB, and it will need 150 GB to record data from the phenomenon and 250 GB to record data from the star.\n",
    "\n",
    "The fuel required to turn between two directions (as well as the initial pointing direction) is given in the following figure:\n",
    "<p align=\"center\">\n",
    "  <img src=\"Graphics/SatNum.png\" width=1200/>\n",
    "</p>\n",
    "\n",
    "Will the satellite be able to capture images of both the star and the phenomenon before running out of fuel or data storage? If so, how much of each will be left at the end of the mission?\n",
    "\n",
    "### (3.2) Solution\n",
    "\n",
    "We can begin by defining the necessary types:"
   ]
  },
  {
   "cell_type": "code",
   "execution_count": 14,
   "metadata": {},
   "outputs": [],
   "source": [
    "Satellite = UserType(\"Satellite\")\n",
    "Direction = UserType(\"Direction\")\n",
    "Instrument = UserType(\"Instrument\") # one instrument can conduct different types of measurements\n",
    "Mode = UserType(\"Mode\") # the type of measurement conducted"
   ]
  },
  {
   "cell_type": "markdown",
   "metadata": {},
   "source": [
    "Next, we can define our fluents, starting with the predicates:"
   ]
  },
  {
   "cell_type": "code",
   "execution_count": 15,
   "metadata": {},
   "outputs": [],
   "source": [
    "On_Board = Fluent(\"On_Board\", BoolType(), i=Instrument, s=Satellite)\n",
    "Supports = Fluent(\"Supports\", BoolType(), i=Instrument, m=Mode) # Which measurements can the instrument conduct?\n",
    "Pointing = Fluent(\"Pointing\", BoolType(), s=Satellite, d=Direction) \n",
    "Power_Avail = Fluent(\"Power_Avail\", BoolType(), s=Satellite) # If the satellite is not currently measuring anything, there will be power available to start recording data\n",
    "Power_On = Fluent(\"Power_On\", BoolType(), i=Instrument) # Is the instrument receiving power from the satellite? If yes, it can record data\n",
    "Calibrated = Fluent(\"Calibrated\", BoolType(), i=Instrument) # Is the instrument calibrated?\n",
    "Have_Image = Fluent(\"Have_Image\", BoolType(), d=Direction, m=Mode) # Did the satellite record data on the given body (called a direction here) already?\n",
    "Calibration_Target = Fluent(\"Calibration_Target\", BoolType(), i=Instrument, d=Direction) # Indicates which direction (usually a ground station) can calibrate the specified instrument"
   ]
  },
  {
   "cell_type": "markdown",
   "metadata": {},
   "source": [
    "followed by the numeric fluents:"
   ]
  },
  {
   "cell_type": "code",
   "execution_count": 16,
   "metadata": {},
   "outputs": [],
   "source": [
    "Data_Capacity = Fluent(\"Data_Capacity\", IntType(), s=Satellite) # How much data storage does the satellite have left?\n",
    "Data = Fluent(\"Data\", IntType(), d=Direction, m=Mode) # How much data is recorded on a certain body (direction) in the specified mode?\n",
    "Slew_Time = Fluent(\"Slew_Time\", IntType(), a=Direction, b=Direction) # How long (i.e. how much fuel) does it take for the satellite to turn between two pointing directions?\n",
    "Data_Stored = Fluent(\"Data_Stored\", IntType()) # How much data has been recorded in total (across all satellites)?\n",
    "Fuel = Fluent(\"Fuel\", IntType(), s=Satellite) # How much fuel does the satellite have left?\n",
    "Fuel_Used = Fluent(\"Fuel_Used\", IntType()) # How much fuel has been spent in total (across all satellites)?"
   ]
  },
  {
   "cell_type": "markdown",
   "metadata": {},
   "source": [
    "Next up are the actions, defined as follows:"
   ]
  },
  {
   "cell_type": "code",
   "execution_count": 17,
   "metadata": {},
   "outputs": [],
   "source": [
    "# Turns the satellite between two pointing directions\n",
    "turn_to = InstantaneousAction('turn_to', s=Satellite, d_new=Direction, d_prev=Direction)\n",
    "s = turn_to.parameter('s')\n",
    "d_new = turn_to.parameter('d_new')\n",
    "d_prev = turn_to.parameter('d_prev')\n",
    "turn_to.add_precondition(Pointing(s, d_prev))\n",
    "turn_to.add_precondition(Not(Equals(d_prev, d_new)))\n",
    "turn_to.add_precondition(GE(Fuel(s), Slew_Time(d_new, d_prev))) # Ensures we have enough fuel to conduct this maneuver\n",
    "turn_to.add_effect(Pointing(s, d_new), True)\n",
    "turn_to.add_effect(Pointing(s, d_prev), False)\n",
    "turn_to.add_effect(Fuel(s), Fuel(s) - Slew_Time(d_new, d_prev)) # Update value for the satellite's fuel\n",
    "turn_to.add_effect(Fuel_Used, Fuel_Used + Slew_Time(d_new, d_prev)) # Update value for the total fuel spent\n",
    "\n",
    "# Turns on the instrument so that it will get power from the satellite\n",
    "switch_on = InstantaneousAction('switch_on', i=Instrument, s=Satellite)\n",
    "i = switch_on.parameter('i')\n",
    "s = switch_on.parameter('s')\n",
    "switch_on.add_precondition(On_Board(i,s))\n",
    "switch_on.add_precondition(Power_Avail(s))\n",
    "switch_on.add_effect(Power_On(i), True)\n",
    "switch_on.add_effect(Calibrated(i), False)\n",
    "switch_on.add_effect(Power_Avail(s), False)\n",
    "\n",
    "# Turns off the instrument so that it no longer draws power from the satellite\n",
    "switch_off = InstantaneousAction('switch_off', i=Instrument, s=Satellite)\n",
    "i = switch_off.parameter('i')\n",
    "s = switch_off.parameter('s')\n",
    "switch_off.add_precondition(On_Board(i,s))\n",
    "switch_off.add_precondition(Power_On(i))\n",
    "switch_off.add_effect(Power_On(i), False)\n",
    "switch_off.add_effect(Power_Avail(s), True)\n",
    "\n",
    "# Calibrates the instrument so that it can record data\n",
    "calibrate = InstantaneousAction('calibrate', s=Satellite, i=Instrument, d=Direction)\n",
    "s = calibrate.parameter('s')\n",
    "i = calibrate.parameter('i')\n",
    "d = calibrate.parameter('d')\n",
    "calibrate.add_precondition(On_Board(i,s))\n",
    "calibrate.add_precondition(Calibration_Target(i,d)) # Ensures that the satellite is pointing towards a valid calibration target (i.e. a ground station)\n",
    "calibrate.add_precondition(Pointing(s, d))\n",
    "calibrate.add_precondition(Power_On(i))\n",
    "calibrate.add_effect(Calibrated(i), True)\n",
    "\n",
    "# Records the data\n",
    "take_image = InstantaneousAction('take_image', s=Satellite, d=Direction, i=Instrument, m=Mode)\n",
    "s = take_image.parameter('s')\n",
    "d = take_image.parameter('d')\n",
    "i = take_image.parameter('i')\n",
    "m = take_image.parameter('m')\n",
    "take_image.add_precondition(Calibrated(i))\n",
    "take_image.add_precondition(On_Board(i,s))\n",
    "take_image.add_precondition(Supports(i,m))\n",
    "take_image.add_precondition(Power_On(i))\n",
    "take_image.add_precondition(Pointing(s,d))\n",
    "take_image.add_precondition(GE(Data_Capacity(s), Data(d,m))) # Ensures we have enough data storage to record this data\n",
    "take_image.add_effect(Have_Image(d,m), True)    \n",
    "take_image.add_effect(Data_Capacity(s), Data_Capacity(s) - Data(d,m)) # Update value for the satellite's data capacity\n",
    "take_image.add_effect(Data_Stored, Data_Stored + Data(d,m)) # Update value for the total data recorded"
   ]
  },
  {
   "cell_type": "markdown",
   "metadata": {},
   "source": [
    "Our domain definition is done, and now we can begin building our problem. First we declare the problem name, instantiate the objects, and add the objects to the problem:"
   ]
  },
  {
   "cell_type": "code",
   "execution_count": 18,
   "metadata": {},
   "outputs": [],
   "source": [
    "problem_satellite_num = Problem(\"satellite_num\")\n",
    "\n",
    "satellite0 = Object(\"satellite0\", Satellite)\n",
    "instrument0 = Object(\"instrument0\", Instrument)\n",
    "image0 = Object(\"image0\", Mode)\n",
    "Star0 = Object(\"Star0\", Direction)\n",
    "GroundStation1 = Object(\"GroundStation1\", Direction)\n",
    "Phenomenon2 = Object(\"Phenomenon2\", Direction)\n",
    "objects = [satellite0, instrument0, image0, Star0, GroundStation1, Phenomenon2]\n",
    "\n",
    "problem_satellite_num.add_objects(objects)"
   ]
  },
  {
   "cell_type": "markdown",
   "metadata": {},
   "source": [
    "Now we add the predicates to the problem:"
   ]
  },
  {
   "cell_type": "code",
   "execution_count": 19,
   "metadata": {},
   "outputs": [
    {
     "data": {
      "text/plain": [
       "bool Calibration_Target[i=Instrument, d=Direction]"
      ]
     },
     "execution_count": 19,
     "metadata": {},
     "output_type": "execute_result"
    }
   ],
   "source": [
    "problem_satellite_num.add_fluent(On_Board, default_initial_value=False)\n",
    "problem_satellite_num.add_fluent(Supports, default_initial_value=False)\n",
    "problem_satellite_num.add_fluent(Pointing, default_initial_value=False)\n",
    "problem_satellite_num.add_fluent(Power_Avail, default_initial_value=True) # power is available for the instruments from the beginning, for all satellites\n",
    "problem_satellite_num.add_fluent(Power_On, default_initial_value=False)\n",
    "problem_satellite_num.add_fluent(Calibrated, default_initial_value=False)\n",
    "problem_satellite_num.add_fluent(Have_Image, default_initial_value=False)\n",
    "problem_satellite_num.add_fluent(Calibration_Target, default_initial_value=False)"
   ]
  },
  {
   "cell_type": "markdown",
   "metadata": {},
   "source": [
    "along with the numeric fluents:"
   ]
  },
  {
   "cell_type": "code",
   "execution_count": 20,
   "metadata": {},
   "outputs": [
    {
     "data": {
      "text/plain": [
       "integer Fuel_Used"
      ]
     },
     "execution_count": 20,
     "metadata": {},
     "output_type": "execute_result"
    }
   ],
   "source": [
    "problem_satellite_num.add_fluent(Data_Capacity)\n",
    "problem_satellite_num.add_fluent(Data, default_initial_value=0)\n",
    "problem_satellite_num.add_fluent(Slew_Time, default_initial_value=0)\n",
    "problem_satellite_num.add_fluent(Data_Stored, default_initial_value=0) # the total data recorded at the start is 0\n",
    "problem_satellite_num.add_fluent(Fuel)\n",
    "problem_satellite_num.add_fluent(Fuel_Used, default_initial_value=0) # the total fuel used at the start is 0"
   ]
  },
  {
   "cell_type": "markdown",
   "metadata": {},
   "source": [
    "and finally the actions:"
   ]
  },
  {
   "cell_type": "code",
   "execution_count": 21,
   "metadata": {},
   "outputs": [],
   "source": [
    "problem_satellite_num.add_action(turn_to)\n",
    "problem_satellite_num.add_action(switch_on)\n",
    "problem_satellite_num.add_action(switch_off)\n",
    "problem_satellite_num.add_action(calibrate)\n",
    "problem_satellite_num.add_action(take_image)"
   ]
  },
  {
   "cell_type": "markdown",
   "metadata": {},
   "source": [
    "Next up, we must define the initial state for our problem. We start with the initial values of the predicates:"
   ]
  },
  {
   "cell_type": "code",
   "execution_count": 22,
   "metadata": {},
   "outputs": [],
   "source": [
    "problem_satellite_num.set_initial_value(Supports(instrument0,image0), True)\n",
    "problem_satellite_num.set_initial_value(Calibration_Target(instrument0,GroundStation1), True)\n",
    "problem_satellite_num.set_initial_value(On_Board(instrument0,satellite0), True)\n",
    "problem_satellite_num.set_initial_value(Power_Avail(satellite0), True) # Did we need this?\n",
    "problem_satellite_num.set_initial_value(Pointing(satellite0, Phenomenon2), True)"
   ]
  },
  {
   "cell_type": "markdown",
   "metadata": {},
   "source": [
    "and then for the initial values of the numeric fluents:"
   ]
  },
  {
   "cell_type": "code",
   "execution_count": 23,
   "metadata": {},
   "outputs": [],
   "source": [
    "problem_satellite_num.set_initial_value(Data_Capacity(satellite0), 550)\n",
    "problem_satellite_num.set_initial_value(Fuel(satellite0), 240)\n",
    "problem_satellite_num.set_initial_value(Data(Phenomenon2, image0), 150)\n",
    "problem_satellite_num.set_initial_value(Data(Star0, image0), 250)\n",
    "\n",
    "# In order to set the slew times between pointing directions, we will create a dictionary and iterate over it in order to set the initial values for turning between every pair of directions\n",
    "slew_dict = {Star0 : {GroundStation1 : 18, Phenomenon2 : 14},\n",
    "             GroundStation1 : {Star0 : 18, Phenomenon2 : 89},\n",
    "             Phenomenon2 : {Star0 : 14, GroundStation1 : 89}}\n",
    "for d1 in slew_dict:\n",
    "    for d2 in slew_dict[d1]:\n",
    "        problem_satellite_num.set_initial_value(Slew_Time(d1,d2), slew_dict[d1][d2])"
   ]
  },
  {
   "cell_type": "markdown",
   "metadata": {},
   "source": [
    "Finally, we can set the goals for this problem:"
   ]
  },
  {
   "cell_type": "code",
   "execution_count": 24,
   "metadata": {},
   "outputs": [],
   "source": [
    "problem_satellite_num.add_goal(Have_Image(Star0, image0))\n",
    "problem_satellite_num.add_goal(Have_Image(Phenomenon2, image0))"
   ]
  },
  {
   "cell_type": "markdown",
   "metadata": {},
   "source": [
    "Unfortunately, the UPF doesn't have great support for metrics yet (i.e. we don't have any planners integrated into the UPF that can deal with problems where we want to minimize/maximize a certain numeric fluent), so for now we will have to suffice with a non-optimal solution (if we were to define optimality using the total fuel spent, for example). If we wanted to add such a metric, this would be the line of code necessary to do so:\n",
    "```\n",
    "from unified_planning.model.metrics import *\n",
    "problem_satellite_num.add_quality_metric(MinimizeExpressionOnFinalState(Fuel_Used()))\n",
    "```\n",
    "Anyways, now that our problem is fully defined, we can save its PDDL files:"
   ]
  },
  {
   "cell_type": "code",
   "execution_count": 25,
   "metadata": {},
   "outputs": [],
   "source": [
    "w = PDDLWriter(problem_satellite_num)\n",
    "w.write_domain('SatelliteNum/domain_satellite_num_upf.pddl')\n",
    "w.write_problem('SatelliteNum/problem_satellite_num_upf.pddl')"
   ]
  },
  {
   "cell_type": "markdown",
   "metadata": {},
   "source": [
    "and then solve it using the Tamer planner:"
   ]
  },
  {
   "cell_type": "code",
   "execution_count": 26,
   "metadata": {},
   "outputs": [
    {
     "name": "stdout",
     "output_type": "stream",
     "text": [
      "Tamer returned:\n",
      "[switch_on(instrument0, satellite0), turn_to(satellite0, GroundStation1, Phenomenon2), calibrate(satellite0, instrument0, GroundStation1), turn_to(satellite0, Phenomenon2, GroundStation1), take_image(satellite0, Phenomenon2, instrument0, image0), turn_to(satellite0, Star0, Phenomenon2), take_image(satellite0, Star0, instrument0, image0)]\n",
      "\n",
      "Initial Fuel Level: 240, Initial Data Capacity: 550\n",
      "Final Fuel Level: 48, Final Data Capacity: 150\n"
     ]
    }
   ],
   "source": [
    "def Get_Final_Values(problem, plan):\n",
    "    fuel = problem.fluent(\"Fuel\")\n",
    "    slew = problem.fluent(\"Slew_Time\")\n",
    "    data_cap = problem.fluent(\"Data_Capacity\")\n",
    "    data = problem.fluent(\"Data\")\n",
    "    sat = problem.object(\"satellite0\")\n",
    "   \n",
    "    fuel_left = problem.initial_value(fuel(sat))._content.payload\n",
    "    data_left = problem.initial_value(data_cap(sat))._content.payload\n",
    "    print(f\"Initial Fuel Level: {fuel_left}, Initial Data Capacity: {data_left}\")\n",
    "\n",
    "    for a in plan.actions:\n",
    "        if a.action.name == 'turn_to':\n",
    "            d_new = a.actual_parameters[1]\n",
    "            d_prev = a.actual_parameters[2]\n",
    "            fuel_spent = problem.initial_value(slew(d_new, d_prev))._content.payload\n",
    "            fuel_left -= fuel_spent\n",
    "        elif a.action.name == 'take_image':\n",
    "            d = a.actual_parameters[1]\n",
    "            m = a.actual_parameters[3]\n",
    "            data_spent = problem.initial_value(data(d, m))._content.payload\n",
    "            data_left -= data_spent\n",
    "    print(f\"Final Fuel Level: {fuel_left}, Final Data Capacity: {data_left}\")\n",
    "    return\n",
    "\n",
    "up.shortcuts.get_env().credits_stream = None\n",
    "with OneshotPlanner(name='tamer') as planner:\n",
    "    result = planner.solve(problem_satellite_num)\n",
    "    plan = result.plan\n",
    "    if plan is not None:\n",
    "        print(\"%s returned:\" % planner.name)\n",
    "        print(plan)\n",
    "        print()\n",
    "        Get_Final_Values(problem_satellite_num, plan)\n",
    "    else:\n",
    "        print(\"No plan found.\")"
   ]
  },
  {
   "cell_type": "markdown",
   "metadata": {},
   "source": [
    "Thus, our solution requires that we first turn on the imaging instrument, then turn the satellite from pointing towards the phenomenon to pointing towards the ground station, and then calibrate the instrument. Once that's done, we can turn the satellite back towards the phenomenon and record data, and once that's done we can turn the satellite towards the star and again record data. Upon doing so, we have completed our tasks, and we have spent 192 grams of fuel and 400 GB of data storage to do so. I've added the code for this problem as a `.py` file under the folder `SatelliteNum`, and you can run it directly from there using the following command:"
   ]
  },
  {
   "cell_type": "code",
   "execution_count": 27,
   "metadata": {},
   "outputs": [
    {
     "name": "stdout",
     "output_type": "stream",
     "text": [
      "Tamer returned:\n",
      "[turn_to(satellite0, GroundStation1, Phenomenon2), switch_on(instrument0, satellite0), calibrate(satellite0, instrument0, GroundStation1), turn_to(satellite0, Phenomenon2, GroundStation1), take_image(satellite0, Phenomenon2, instrument0, image0), turn_to(satellite0, Star0, Phenomenon2), take_image(satellite0, Star0, instrument0, image0)]\n",
      "\n",
      "Initial Fuel Level: 240, Initial Data Capacity: 550\n",
      "Final Fuel Level: 48, Final Data Capacity: 150\n"
     ]
    }
   ],
   "source": [
    "from SatelliteNum import satellite_num_upf\n",
    "satellite_num_upf.main()"
   ]
  },
  {
   "cell_type": "markdown",
   "metadata": {},
   "source": [
    "It turns out that the PDDL extension for VS Code is also capable of solving this problem, and if you run its solver on the `problem_satellite_num.pddl` file in the `SatelliteNum` folder then you will actually obtain the optimal solution in terms of total fuel spent:\n",
    "<p align=\"center\">\n",
    "  <img src=\"Graphics/NumSol.png\" width=800/>\n",
    "</p>\n",
    "The following plots show the evolution of the numeric fluent values over the course of the produced plan, including the metric we defined (the total fuel spent):\n",
    "<p align=\"center\">\n",
    "  <img src=\"Graphics/NumGraphs1.png\" width=500/>\n",
    "  <img src=\"Graphics/NumGraphs2.png\" width=500/>\n",
    "</p>"
   ]
  },
  {
   "cell_type": "markdown",
   "metadata": {},
   "source": [
    "## (4) Ex: Satellite Activity Planning (Temporal)\n",
    "\n",
    "Finally, let's try to solve a different variation of the satellite problem which relies on temporal (rather than numeric) planning. This problem is again based on the Satellite domain from the AIPS 2002 planning competition.\n",
    "\n",
    "### (4.1) Problem Statement\n",
    "\n",
    "The ISA's initial pilot for the new satellite program was a success! They are now looking to add a new satellite to the fleet (with both a thermograph and a spectrograph) in order to more efficiently image 2 new stars and 3 new celestial phenomena. They want to record thermograph data for both stars, and spectrograph data for all 3 phenomena. This time, they no longer have any constraints on the fuel expendtiture nor on the data storage capacity, but rather they would like to record all of the necessary data within a certain amount of time.\n",
    "\n",
    "The initial setup of the problem is shown in the following figure:\n",
    "<p align=\"center\">\n",
    "  <img src=\"Graphics/SatTemp0.png\" width=1200/>\n",
    "</p>\n",
    "\n",
    "How much time will it take the satellite to record all of the data and complete the mission?\n",
    "\n",
    "### (4.2) Solution\n",
    "\n",
    "We will discuss the solution together in class. The solution `.py` file for this problem can be found in the `SatelliteTemp` folder, and it can be run here using the following commands:"
   ]
  },
  {
   "cell_type": "code",
   "execution_count": 29,
   "metadata": {},
   "outputs": [
    {
     "name": "stdout",
     "output_type": "stream",
     "text": [
      "Tamer returned:\n",
      "0.0: switch_on(instrument1, satellite1) [2.0]\n",
      "2.01: turn_to(satellite1, GroundStation1, Phenomenon2) [5.0]\n",
      "7.02: calibrate(satellite1, instrument1, GroundStation1) [5.0]\n",
      "12.03: turn_to(satellite1, Phenomenon2, GroundStation1) [5.0]\n",
      "17.04: take_image(satellite1, Phenomenon2, instrument1, spectrograph1) [7.0]\n",
      "24.04: turn_to(satellite1, Phenomenon1, Phenomenon2) [5.0]\n",
      "29.05: take_image(satellite1, Phenomenon1, instrument1, spectrograph1) [7.0]\n",
      "36.06: turn_to(satellite1, Phenomenon3, Phenomenon1) [5.0]\n",
      "41.07: take_image(satellite1, Phenomenon3, instrument1, spectrograph1) [7.0]\n",
      "48.08: turn_to(satellite1, Star1, Phenomenon3) [5.0]\n",
      "53.09: take_image(satellite1, Star1, instrument1, thermograph1) [7.0]\n",
      "60.1: turn_to(satellite1, Star2, Star1) [5.0]\n",
      "65.11: take_image(satellite1, Star2, instrument1, thermograph1) [7.0]\n"
     ]
    }
   ],
   "source": [
    "from SatelliteTemp import satellite_temp_upf\n",
    "satellite_temp_upf.main()"
   ]
  },
  {
   "cell_type": "markdown",
   "metadata": {},
   "source": [
    "## (5) Conclusion\n",
    "\n",
    "In this tutorial, we:\n",
    "* Introduced PDDL 2.1 for representations of temporal and numeric planning problems\n",
    "* Utilized the UPF in order to model and solve temporal/numeric planning problems using Python\n",
    "\n",
    "Next week we will begin learning about the Linux operating system, so that we can be better prepared to start working with the Robot Operating System (ROS) later on!"
   ]
  },
  {
   "cell_type": "markdown",
   "metadata": {},
   "source": [
    "#### ***Credit:** This tutorial was written by Yotam Granov, Winter 2022.*"
   ]
  },
  {
   "cell_type": "markdown",
   "metadata": {},
   "source": [
    "### **References**\n",
    "\n",
    "[1] AIPlan4EU. [\"The Unified Planning Library\"](https://unified-planning.readthedocs.io/en/latest/index.html), 2021. GitHub: https://github.com/aiplan4eu/unified-planning\n",
    "\n",
    "[2] Artificial Intelligence Planning and Scheduling Conference 2002. [The Third International Planning Competition](https://ipc02.icaps-conference.org/), 2002.\n",
    "\n",
    "[3] Maria Fox & Derek Long. [\"PDDL 2.1: An Extension to PDDL for Expressing Temporal Planning Domains\"](https://arxiv.org/pdf/1106.4561.pdf), 2003.\n",
    "\n",
    "[4] Adam Green. [\"PDDL 2.1\"](https://planning.wiki/ref/pddl21), *Planning.wiki - The AI Planning & PDDL Wiki*.\n",
    "\n",
    "[5] Alessandro Valentini, Andrea Micheli, & Alessandro Cimatti. [\"Temporal Planning with Intermediate Conditions and Effects.\"](https://ojs.aaai.org/index.php/AAAI/article/view/6553), 2020. Homepage for Tamer: https://tamer.fbk.eu/"
   ]
  }
 ],
 "metadata": {
  "kernelspec": {
   "display_name": "Python 3.8.8 ('cogrob')",
   "language": "python",
   "name": "python3"
  },
  "language_info": {
   "codemirror_mode": {
    "name": "ipython",
    "version": 3
   },
   "file_extension": ".py",
   "mimetype": "text/x-python",
   "name": "python",
   "nbconvert_exporter": "python",
   "pygments_lexer": "ipython3",
   "version": "3.8.8"
  },
  "vscode": {
   "interpreter": {
    "hash": "5ffdfe3c228452b707153f6729e193485c761ea1eaa5f0602b7cded1af662249"
   }
  }
 },
 "nbformat": 4,
 "nbformat_minor": 4
}
