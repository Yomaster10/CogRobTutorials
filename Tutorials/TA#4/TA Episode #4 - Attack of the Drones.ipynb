{
 "cells": [
  {
   "cell_type": "markdown",
   "metadata": {},
   "source": [
    "<p align=\"center\">\n",
    "  <img src=\"Graphics/Episode IV.png\" />\n",
    "</p>"
   ]
  },
  {
   "cell_type": "markdown",
   "metadata": {},
   "source": [
    "## (0) The Unified Planning Framework (UPF)"
   ]
  },
  {
   "cell_type": "markdown",
   "metadata": {},
   "source": [
    "### (0.1) Learning Outcomes\n",
    "\n",
    "In this tutorial, we will cover:\n",
    "* How can we integrate PDDL with Python using the Unified Planning Framework?\n",
    "* How can we build some of the planning problems we've already explored with the UPF?\n",
    "\n",
    "<p align=\"center\">\n",
    "  <img src=\"Graphics/UPF.png\" width=700/>\n",
    "</p>"
   ]
  },
  {
   "cell_type": "markdown",
   "metadata": {},
   "source": [
    "## (1) Integrating Classical Planning into Python with the UPF\n",
    "\n",
    "The [Unified Planning Framework](https://www.ai4europe.eu/research/ai-catalog/unified-planning-framework) is a Python library developed by the [AIPlan4EU](https://www.aiplan4eu-project.eu/) project, that makes it easy to formulate planning problems and to invoke automated planners directly from Python scripts. This library will allow us to produce PDDL files in a more convenient way and run them through AI planners with ease.\n",
    "\n",
    "<p align=\"center\">\n",
    "  <img src=\"Graphics/UPF_Diagram.png\" />\n",
    "</p>\n",
    "\n",
    "In order to install the library (and the Fast Downward planner), please run the following commands from your computer's terminal:\n",
    "```\n",
    "pip install unified-planning==0.4.2.362.dev1\n",
    "pip install up-fast-downward==0.0.4\n",
    "```\n",
    "\n",
    "We'll begin by revisiting the simple world domain that we've seen before, and understanding how we can represent it using the UPF.\n",
    "\n",
    "### (1.1) UPF Basics\n",
    "\n",
    "Let's remind ourselves of the following problem: imagine we are in a room where there is an apple on a shelf one side of the room, a robot in the middle of the room, and a table on the other side of the room from the shelf. This world looks as follows:\n",
    "<p align=\"center\">\n",
    "  <img src=\"Graphics/simple_world.png\" />\n",
    "</p>\n",
    "We want to command the robot to perform a simple task like “take the apple from the shelf and put it on the table”. How can we represent this world and this task using the UPF?\n",
    "\n",
    "First, we should import the necessary libraries into this notebook:"
   ]
  },
  {
   "cell_type": "code",
   "execution_count": null,
   "metadata": {},
   "outputs": [],
   "source": [
    "from unified_planning.shortcuts import *\n",
    "from unified_planning.io import PDDLWriter"
   ]
  },
  {
   "cell_type": "markdown",
   "metadata": {},
   "source": [
    "Now that we have UPF loaded, we can begin describing the problem. In this case, we don't need to declare the domain name at the start, nor do we need to declare any requirements. We can go straight to defining the new types that we need for this problem, which we did in TA#2 using PDDL as follows:\n",
    "```\n",
    "    (:types apple location robot - object)\n",
    "```\n",
    "\n",
    "With the UPF, we can declare the types in our domain as follows:"
   ]
  },
  {
   "cell_type": "code",
   "execution_count": null,
   "metadata": {},
   "outputs": [],
   "source": [
    "Apple = UserType(\"Apple\")\n",
    "Robot = UserType(\"Robot\")\n",
    "Location = UserType(\"Location\")"
   ]
  },
  {
   "cell_type": "markdown",
   "metadata": {},
   "source": [
    "These types are all automatically derived from `object`, but if we wanted to derive them from a different type we could add an argument called `father`, for example:\n",
    "```\n",
    "Robot = UserType(\"Robot\", father=Location)\n",
    "```\n",
    "This would derive the `Robot` type as a child of the `Location` type. We won't use this functionality just yet, but it'll be useful for our next example.\n",
    "\n",
    "Next, we can define our predicates for this domain, which we did in PDDL as follows:\n",
    "```\n",
    "    (:predicates (On ?a - apple ?l - location)(Holding ?r - robot ?a - apple)(At ?r - robot ?l - location))\n",
    "```\n",
    "With the UPF, we can write the following:"
   ]
  },
  {
   "cell_type": "code",
   "execution_count": null,
   "metadata": {},
   "outputs": [],
   "source": [
    "At = Fluent(\"At\", BoolType(), robot=Robot, location=Location)\n",
    "On = Fluent(\"On\", BoolType(), apple=Apple, location=Location)\n",
    "Holding = Fluent(\"Holding\", BoolType(), robot=Robot, apple=Apple)"
   ]
  },
  {
   "cell_type": "markdown",
   "metadata": {},
   "source": [
    "The predicates are declared using the `Fluent` function, as predicates are just boolean fluents (a fluent is a variable in a planning problem - it can be boolean, numeric, etc.), with the `BoolType()` type to indicate that they have boolean values. We will see later how to use this to declare numeric fluents as well.\n",
    "\n",
    "Next up, we have our actions, which were defined as follows in PDDL:\n",
    "```\n",
    "(:action pick\n",
    "    :parameters (?a - apple ?r - robot ?l - location)\n",
    "    :precondition (and (On ?a ?l)\n",
    "                       (not (Holding ?r ?a))\n",
    "                       (At ?r ?l))\n",
    "    :effect (and (not (On ?a ?l))\n",
    "                 (Holding ?r ?a))\n",
    "    )\n",
    "\n",
    "    (:action place\n",
    "    :parameters (?a - apple ?r - robot ?l - location)\n",
    "    :precondition (and (not (On ?a ?l))\n",
    "                       (Holding ?r ?a)\n",
    "                       (At ?r ?l))\n",
    "    :effect (and (On ?a ?l)\n",
    "                 (not (Holding ?r ?a)))\n",
    "    )\n",
    "\n",
    "    (:action move\n",
    "    :parameters (?r - robot ?from ?to - location)\n",
    "    :precondition (and (At ?r ?from)\n",
    "                       (not (At ?r ?to)))\n",
    "    :effect (and (At ?r ?to)\n",
    "                 (not (At ?r ?from)))\n",
    "    )\n",
    "```     \n",
    "\n",
    "Now with the UPF, we can define them like this:"
   ]
  },
  {
   "cell_type": "code",
   "execution_count": null,
   "metadata": {},
   "outputs": [],
   "source": [
    "move = InstantaneousAction(\"move\", r=Robot, l_from=Location, l_to=Location)\n",
    "l_from = move.parameter(\"l_from\")\n",
    "l_to = move.parameter(\"l_to\")\n",
    "r = move.parameter(\"r\")\n",
    "move.add_precondition(At(r,l_from))\n",
    "move.add_precondition(Not(At(r,l_to)))\n",
    "move.add_effect(At(r,l_to),True)\n",
    "move.add_effect(At(r,l_from),False)\n",
    "\n",
    "pick = InstantaneousAction(\"pick\", a=Apple, r=Robot, l=Location)\n",
    "a = pick.parameter(\"a\")\n",
    "r = pick.parameter(\"r\")\n",
    "l = pick.parameter(\"l\")\n",
    "pick.add_precondition(At(r,l))\n",
    "pick.add_precondition(On(a,l))\n",
    "pick.add_precondition(Not(Holding(r,a)))\n",
    "pick.add_effect(On(a,l),False)\n",
    "pick.add_effect(Holding(r,a),True)\n",
    "\n",
    "place = InstantaneousAction(\"place\", a=Apple, r=Robot, l=Location)\n",
    "a = pick.parameter(\"a\")\n",
    "r = pick.parameter(\"r\")\n",
    "l = pick.parameter(\"l\")\n",
    "place.add_precondition(At(r,l))\n",
    "place.add_precondition(Not(On(a,l)))\n",
    "place.add_precondition(Holding(r,a))\n",
    "place.add_effect(On(a,l),True)\n",
    "place.add_effect(Holding(r,a),False)"
   ]
  },
  {
   "cell_type": "markdown",
   "metadata": {},
   "source": [
    "As you can see, we use the `InstantaneousAction` function to create a new action, and we can add its parameters using `.parameter`, its preconditions using `.add_precondition`, and its effects using `.add_effect`. Be aware that some planners can't handle negative preconditions (i.e. using `Not` in the preconditions), so just be aware of that when choosing a planner for a problem! When declaring effects, we simply set the boolean value of the predicates of interest to either `True` or `False`, as you can see above (i.e. we don't need to use the `Not` operator there).\n",
    "\n",
    "At this point we've established our domain, and now we can start building our problem. Looking back to our PDDL problem file, we see that we started by declaring the domain and the objects in our problem:\n",
    "```\n",
    "(:domain simple)\n",
    "\t(:objects\n",
    "        Apple - apple\n",
    "        Robot - robot\n",
    "        Shelf Table - location\n",
    "    )\n",
    "```\n",
    "With the UPF we didn't need to declare a domain name, but we will declare a name in order to define a new problem:"
   ]
  },
  {
   "cell_type": "code",
   "execution_count": null,
   "metadata": {},
   "outputs": [],
   "source": [
    "problem_simple = Problem(\"simple\")"
   ]
  },
  {
   "cell_type": "markdown",
   "metadata": {},
   "source": [
    "The `Problem` class will store all of the information needed to represent and solve our planning problems. We'll start by declaring our objects and adding them to the problem:"
   ]
  },
  {
   "cell_type": "code",
   "execution_count": null,
   "metadata": {},
   "outputs": [],
   "source": [
    "robot0 = Object(\"robot0\", Robot)\n",
    "apple0 = Object(\"apple0\", Apple)\n",
    "shelf = Object(\"shelf\", Location)\n",
    "table = Object(\"table\", Location)\n",
    "\n",
    "problem_simple.add_objects([robot0,apple0,shelf,table])"
   ]
  },
  {
   "cell_type": "markdown",
   "metadata": {},
   "source": [
    "Notice that we add our objects to the problem using the `.add_objects` method; without it, our objects won't be attached to our problem, even after we declared them as above. The same will go for pretty much every other thing in PDDL. For example, we add our predicates and actions to the problem by running the following commands:"
   ]
  },
  {
   "cell_type": "code",
   "execution_count": null,
   "metadata": {},
   "outputs": [],
   "source": [
    "problem_simple.add_fluent(At, default_initial_value=False)\n",
    "problem_simple.add_fluent(On, default_initial_value=False)\n",
    "problem_simple.add_fluent(Holding, default_initial_value=False)\n",
    "problem_simple.add_action(move)\n",
    "problem_simple.add_action(pick)\n",
    "problem_simple.add_action(place)"
   ]
  },
  {
   "cell_type": "markdown",
   "metadata": {},
   "source": [
    "When adding the predicates (and any other fluents) we can set their initial value already inside the `.add_fluent` method, as we did above (we don't really need to declare that the initial values are `False`, since PDDL will assume that any predicates not declared in the initial state will just be `False` there).\n",
    "\n",
    "Next up, we need to set the initial and goal states of our problem, as we did in our PDDL problem file. In PDDL, we did so as follows:\n",
    "```\n",
    "\t(:init (On Apple Shelf)(At Robot Table))\n",
    "\n",
    "\t(:goal (On Apple Table))\n",
    "```\n",
    "With the UPF, we can do this as so:"
   ]
  },
  {
   "cell_type": "code",
   "execution_count": null,
   "metadata": {},
   "outputs": [],
   "source": [
    "problem_simple.set_initial_value(At(robot0,table), True)\n",
    "problem_simple.set_initial_value(On(apple0,shelf), True)\n",
    "problem_simple.add_goal(On(apple0,table))"
   ]
  },
  {
   "cell_type": "markdown",
   "metadata": {},
   "source": [
    "At this point, our problem is completely defined. If we'd like to check any of the properties of our problem (i.e. we want to know what actions it contains or what the initial state is, for example), we can use the methods of the `Problem` class to do just that. For example:"
   ]
  },
  {
   "cell_type": "code",
   "execution_count": null,
   "metadata": {},
   "outputs": [],
   "source": [
    "problem_simple.actions"
   ]
  },
  {
   "cell_type": "code",
   "execution_count": null,
   "metadata": {},
   "outputs": [],
   "source": [
    "problem_simple.initial_values"
   ]
  },
  {
   "cell_type": "markdown",
   "metadata": {},
   "source": [
    "If we want to write the problem that we've defined using the UPF to PDDL domain and problem files (this can help us ensure that we've represented our problem as we intended to), we can run the following command:"
   ]
  },
  {
   "cell_type": "code",
   "execution_count": null,
   "metadata": {},
   "outputs": [],
   "source": [
    "w = PDDLWriter(problem_simple)\n",
    "w.write_domain('SimpleExample/domain_simple_upf.pddl')\n",
    "w.write_problem('SimpleExample/problem_simple_upf.pddl')"
   ]
  },
  {
   "cell_type": "markdown",
   "metadata": {},
   "source": [
    "Looking inside the PDDL files that UPF produced, we can see that they appear quite similar (at least in structure) to the ones we had used back in the second tutorial. You'll notice that the `:requirements` were automatically added by the UPF without us having to explicitly declare them - this is a nice advantage of this framework. In fact, we can see our problem kind directly in Python using the `.kind` method on our `Problem` object as follows:"
   ]
  },
  {
   "cell_type": "code",
   "execution_count": null,
   "metadata": {},
   "outputs": [],
   "source": [
    "problem_simple.kind"
   ]
  },
  {
   "cell_type": "markdown",
   "metadata": {},
   "source": [
    "You should see the following *features* inside the `ProblemKind` object: `NEGATIVE_CONDITIONS` (equivalent to the `:negative-preconditions` requirement), `ACTION_BASED` (equivalent to the `:strips` requirement), and `FLAT_TYPING` (equivalent to the `:typing` requirement).\n",
    "\n",
    "Finally, we'll want to actually solve our planning problem. To do so, we first instantiate a planner using the `OneshotPlanner` class (we can choose which planner we'd like to use, or we can let the UPF decide for us automatically), then we use its `.solve` method on our problem to produce a result (which is stored in an object of type `PlanGenerationResult`), and finally we can access the plan by calling the result's `.plan` attribute (which is of type `SequentialPlan` in this case). These steps will look as follows in Python:"
   ]
  },
  {
   "cell_type": "code",
   "execution_count": null,
   "metadata": {},
   "outputs": [],
   "source": [
    "FD_planner = OneshotPlanner(name='fast-downward')\n",
    "result_simple = FD_planner.solve(problem_simple)\n",
    "plan_simple = result_simple.plan\n",
    "print(plan_simple)"
   ]
  },
  {
   "cell_type": "markdown",
   "metadata": {},
   "source": [
    "As expected, we obtained the same plan as we did back in Tutorial 2. The actions in this plan are contained in its `.actions` attribute, which can be called as follows:"
   ]
  },
  {
   "cell_type": "code",
   "execution_count": null,
   "metadata": {},
   "outputs": [],
   "source": [
    "plan_simple.actions"
   ]
  },
  {
   "cell_type": "markdown",
   "metadata": {},
   "source": [
    "You'll notice that we set the name for our planner to be `fast-downward` - this tells the UPF to use the [Fast Downward](https://www.aaai.org/Papers/JAIR/Vol26/JAIR-2606.pdf) planner, which we briefly mentioned in last week's tutorial. The UPF has a handful of planners already integrated for our convenience, such as [Pyperplan](https://github.com/aibasel/pyperplan), [Tamer](https://tamer.fbk.eu), and [LPG](https://lpg.unibs.it/lpg/). We can ask the UPF to automatically choose a planner for us based on our problem kind (i.e. what features we require) using the following commands:"
   ]
  },
  {
   "cell_type": "code",
   "execution_count": null,
   "metadata": {},
   "outputs": [],
   "source": [
    "up.shortcuts.get_env().credits_stream = None\n",
    "with OneshotPlanner(problem_kind=problem_simple.kind) as planner:\n",
    "    result_simple = planner.solve(problem_simple)\n",
    "    plan_simple = result_simple.plan\n",
    "    if plan_simple is not None:\n",
    "        print(\"%s returned:\" % planner.name)\n",
    "        print(plan_simple)\n",
    "    else:\n",
    "        print(\"No plan found.\")"
   ]
  },
  {
   "cell_type": "markdown",
   "metadata": {},
   "source": [
    "In this case the UPF automatically chose Fast Downward again, and returns the same plan we saw earlier. We can (optionally) validate the plan we've obtained, if we need further certainty that it is indeed valid (or if we obtained a plan from somewhere else and we want to check that it's valid for our problem), using the following commands:"
   ]
  },
  {
   "cell_type": "code",
   "execution_count": null,
   "metadata": {},
   "outputs": [],
   "source": [
    "with PlanValidator(problem_kind=problem_simple.kind) as validator:\n",
    "    assert validator.validate(problem_simple, plan_simple)\n",
    "    print('Plan is valid!')"
   ]
  },
  {
   "cell_type": "markdown",
   "metadata": {},
   "source": [
    "Finally, I've added the code for this problem as a `.py` file under the folder `Simple Example`, and you can run it directly from there using the following command:"
   ]
  },
  {
   "cell_type": "code",
   "execution_count": null,
   "metadata": {},
   "outputs": [],
   "source": [
    "from SimpleExample import simple_upf\n",
    "simple_upf.main()"
   ]
  },
  {
   "cell_type": "markdown",
   "metadata": {},
   "source": [
    "<p align=\"center\">\n",
    "  <img src=\"Graphics/UPF2.png\" width=700/>\n",
    "</p>\n",
    "\n",
    "For more information on the UPF, feel free to visit the [GitHub repository](https://github.com/aiplan4eu/unified-planning) and the [documentation site](https://unified-planning.readthedocs.io/en/latest/index.html), and you can check out the [AIPlan4EU GitHub page](https://github.com/aiplan4eu) to learn more about the planners that are currently availble to use with the UPF (you can also use other planners that are not integrated yet, but we will try to avoid doing so for now). There are some practice Jupyter notebooks [here](https://github.com/aiplan4eu/unified-planning/blob/master/notebooks/README.md) that might also be of use to you."
   ]
  },
  {
   "cell_type": "markdown",
   "metadata": {},
   "source": [
    "## (2) Ex: The Googazon Drone Delivery Service\n",
    "\n",
    "Now let's try to tackle a more complex planning problem, in order to get a better idea of the utility of the UPF.\n",
    "\n",
    "### (2.1) Problem Statement\n",
    "In Lecture 3, you were introduced to **Googazon**, the largest (fictitious) internet company in the world, who just launched a new drone delivery service. Googazon currently has three drones and two warehouses, and each warehouse stores either milk or sugar. The delivery service currently serves 9 customers, who from time to time want either milk, sugar, or both. At a certain point in time, three customers make orders through Googazon's service, and so Googazon must plan the most efficient way (least number of total actions) to get the goods from their warehouses to their customers using the drones (who can only carry one good each at a time). We can visualize the setting of the problem as follows:\n",
    "<p align=\"center\">\n",
    "  <img src=\"Graphics/Googazon.png\" width=1100 />\n",
    "</p>\n",
    "\n",
    "### (2.2) Solution\n",
    "We will discuss the solution together in class. The solution `.py` file for this problem can be found in the `Drones` folder, and it can be run here using the following commands:"
   ]
  },
  {
   "cell_type": "code",
   "execution_count": null,
   "metadata": {},
   "outputs": [],
   "source": [
    "from Drones import drones_upf\n",
    "drones_upf.main()"
   ]
  },
  {
   "cell_type": "markdown",
   "metadata": {},
   "source": [
    "Notice that the planner we used here is not the regular Fast Downward planner, but rather an optimized version of it that is guaranteed to return an optimal solution (in terms of smallest number of total actions) if one exists. We can run this variant by defining our planner as follows: `planner = OneshotPlanner(name='fast-downward-opt')`."
   ]
  },
  {
   "cell_type": "markdown",
   "metadata": {},
   "source": [
    "## (3) Ex: Tower of Hanoi\n",
    "\n",
    "In this part, you will try to model the **Tower of Hanoi** problem that we saw in Tutorial 3 using the UPF. This will serve as one of the four questions on Homework #1, so feel free to get a head start now! As a reminder, this problem was defined as follows:\n",
    "\n",
    "### (3.1) Problem Statement\n",
    "The Tower of Hanoi is a mathematical puzzle where we have 3 pegs and $N$ disks, and initially all of the disks are stacked in decreasing value of diameter on the first peg (the smallest disk is placed on the top). The objective of the puzzle is to move the entire stack of disks to the third peg using the least number of moves (which was actually shown to be $2^{N}-1$) while obeying the following rules:\n",
    "* Only one disk can be moved at a time\n",
    "* Each move consists of taking the upper disk from one of the stacks and placing it on top of another stack (so a disk can only be moved if it's the uppermost disk on a stack)\n",
    "* No disk may be placed on top of a smaller disk\n",
    "\n",
    "The problem for $N=2$ looks as follows:\n",
    "<p align=\"center\">\n",
    "  <img src=\"Graphics/Hanoi.png\" width=1000 />\n",
    "</p>\n",
    "\n",
    "Try to solve the $N=2$ case first, and then see if you can solve the higher level cases. The PDDL files for the $N=2$ case are available for you to look at in the `TowerOfHanoi` folder, though I recommend that you try to solve the problem without looking at them (at least initially)!"
   ]
  },
  {
   "cell_type": "markdown",
   "metadata": {},
   "source": [
    "## (4) Ex: The Travelling Jedi Problem\n",
    "\n",
    "In this part, you will try to model the **Travelling Jedi Problem** (an unweighted [Travelling Salesman Problem](https://en.wikipedia.org/wiki/Travelling_salesman_problem)) that we saw in Tutorial 3 using the UPF. This will serve as one of the four questions on Homework #1, so feel free to get a head start now! As a reminder, this problem was defined as follows:\n",
    "\n",
    "### (4.1) Problem Statement\n",
    "Luke is taking a roadtrip with his pals aboard the Millennium Falcon, and he wants to visit a bunch of different planets, moons, and space stations across the galaxy. He will start from Tatooine, and he wants to visit every location exactly once before returning to Tatooine again. He asks the Falcon's computer (known as the Millennium Collective) to plan such a route for him, without regard to the actual geometric distance between the locations (we will deal with a weighted version of the TSP later on). The following figure shows the locations Luke would like to visit, as well as the routes that connect them to each other:\n",
    "<p align=\"center\">\n",
    "  <img src=\"Graphics/StarWarsTJP.png\" width=600 />\n",
    "</p>"
   ]
  },
  {
   "cell_type": "markdown",
   "metadata": {},
   "source": [
    "## (5) Conclusion\n",
    "\n",
    "In this tutorial, we:\n",
    "* Introduced the Unified Planning Framework (UPF) library, to facilitate creating PDDL problems with Python\n",
    "* Got some more hands-on experience working with PDDL problem representation, as well as with Python and the UPF\n",
    "* Revisited some classical planning problems like the Tower of Hanoi and the Travelling Jedi Problem using the UPF (which will also be part of the first homework)\n",
    "\n",
    "Next week we will begin our discussion on temporal planning and scheduling, and we'll see more applications of the Unified Planning Framework."
   ]
  },
  {
   "cell_type": "markdown",
   "metadata": {},
   "source": [
    "#### ***Credit:** This tutorial was written by Yotam Granov, Winter 2022.*"
   ]
  },
  {
   "cell_type": "markdown",
   "metadata": {},
   "source": [
    "### **References**\n",
    "\n",
    "[1] AIPlan4EU. [\"The Unified Planning Library\"](https://unified-planning.readthedocs.io/en/latest/index.html), 2021. GitHub: https://github.com/aiplan4eu/unified-planning"
   ]
  }
 ],
 "metadata": {
  "kernelspec": {
   "display_name": "Python 3.8.8 ('base')",
   "language": "python",
   "name": "python3"
  },
  "language_info": {
   "codemirror_mode": {
    "name": "ipython",
    "version": 3
   },
   "file_extension": ".py",
   "mimetype": "text/x-python",
   "name": "python",
   "nbconvert_exporter": "python",
   "pygments_lexer": "ipython3",
   "version": "3.8.8"
  },
  "vscode": {
   "interpreter": {
    "hash": "ad2bdc8ecc057115af97d19610ffacc2b4e99fae6737bb82f5d7fb13d2f2c186"
   }
  }
 },
 "nbformat": 4,
 "nbformat_minor": 4
}
